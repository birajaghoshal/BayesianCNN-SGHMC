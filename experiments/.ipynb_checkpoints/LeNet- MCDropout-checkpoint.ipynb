{
 "cells": [
  {
   "cell_type": "markdown",
   "metadata": {},
   "source": [
    "# LeNet Dropout"
   ]
  },
  {
   "cell_type": "code",
   "execution_count": 1,
   "metadata": {},
   "outputs": [],
   "source": [
    "import matplotlib.pyplot as plt\n",
    "import numpy as np\n",
    "import seaborn as sns\n",
    "import tensorflow as tf\n",
    "from tensorflow.examples.tutorials.mnist import input_data\n",
    "from edward.models import Categorical, Normal, Empirical\n",
    "from tensorflow.python.ops import gen_state_ops\n",
    "from tensorflow.python.ops import state_ops\n",
    "from tensorflow.python.framework import dtypes\n",
    "import edward as ed\n",
    "import pandas as pd\n",
    "%matplotlib inline"
   ]
  },
  {
   "cell_type": "code",
   "execution_count": 2,
   "metadata": {},
   "outputs": [
    {
     "name": "stdout",
     "output_type": "stream",
     "text": [
      "Extracting MNIST_3_data/train-images-idx3-ubyte.gz\n",
      "Extracting MNIST_3_data/train-labels-idx1-ubyte.gz\n",
      "Extracting MNIST_3_data/t10k-images-idx3-ubyte.gz\n",
      "Extracting MNIST_3_data/t10k-labels-idx1-ubyte.gz\n"
     ]
    }
   ],
   "source": [
    "mnist = input_data.read_data_sets(\"MNIST_3_data/\",reshape=False, one_hot=True)"
   ]
  },
  {
   "cell_type": "code",
   "execution_count": 3,
   "metadata": {},
   "outputs": [],
   "source": [
    "# mnist.train.next_batch(100)[0].shape\n",
    "\n",
    "# c1 = tf.layers.conv2d(x,6,5,activation=tf.nn.relu,name=\"c1\")\n"
   ]
  },
  {
   "cell_type": "code",
   "execution_count": 4,
   "metadata": {},
   "outputs": [
    {
     "data": {
      "text/plain": [
       "\"\\nwith tf.variable_scope('c1', reuse=True):\\n    w = tf.get_variable('kernel')\\n    print w\\n\""
      ]
     },
     "execution_count": 4,
     "metadata": {},
     "output_type": "execute_result"
    }
   ],
   "source": [
    "#get weights\n",
    "# source: https://stackoverflow.com/questions/45372291/how-to-get-weights-in-tf-layers-dense\n",
    "'''\n",
    "with tf.variable_scope('c1', reuse=True):\n",
    "    w = tf.get_variable('kernel')\n",
    "    print w\n",
    "'''\n",
    "    "
   ]
  },
  {
   "cell_type": "code",
   "execution_count": 3,
   "metadata": {},
   "outputs": [],
   "source": [
    "# Trainable Parameters\n",
    "# learning_rate = 0.001\n",
    "# num_steps = 2000\n",
    "batch_size= 64\n",
    "\n",
    "# Network Parameters\n",
    "num_classes = 10# MNIST total classes (0-9 digits)\n",
    "dropout = 0.5 # Dropout, probability to keep units\n",
    "\n",
    "def lenet(x,n_classes, dropout, reuse, is_training):\n",
    "    '''\n",
    "    According to Gal's paper: BAYESIAN CONVOLUTIONAL NEURAL NETWORKS WITH BERNOULLI APPROXIMATE VARIATIONAL INFERENCE\n",
    "    Author designed bayesian cnn to have dropout after all parameter layers. \n",
    "    \n",
    "    Also, author implemented all all dropout layers have dropout probability of 0.5 \n",
    "    '''\n",
    "    # Define a scope for reusing the variables\n",
    "    with tf.variable_scope('LeNet', reuse=reuse):\n",
    "        # Convolution layer with 6 filters and a kernel size of 5\n",
    "        conv1 = tf.layers.conv2d(x,6,5,activation=tf.nn.relu)\n",
    "        conv1 = tf.layers.dropout(conv1,rate = dropout,training=is_training)\n",
    "\n",
    "        # max pooling (down-sampling) with strides of 1 and kernel size of 2\n",
    "        conv1 = tf.layers.max_pooling2d(conv1,1,2)\n",
    "        \n",
    "        # Convolution layer with 64 filters and a kernel size of 3\n",
    "        conv2 = tf.layers.conv2d(conv1,16,5,activation=tf.nn.relu)\n",
    "        conv2 = tf.layers.dropout(conv2,rate = dropout,training=is_training)\n",
    "\n",
    "        # Max Pooling (down-sample) with strides of 1 and kernel-size of 2\n",
    "        conv2 = tf.layers.max_pooling2d(conv2,1,2)\n",
    "        \n",
    "        # Flatten the data to a 1-D vector for the fully connected layer\n",
    "        fc1 = tf.contrib.layers.flatten(conv2)\n",
    "        \n",
    "        # Fully connected layer\n",
    "        fc1 = tf.layers.dense(fc1, 120,activation=tf.nn.relu)\n",
    "        fc1 = tf.layers.dropout(fc1,rate = dropout,training=is_training)\n",
    "\n",
    "        # Apply Dropout (if is_training is False, dropout is not applied)\n",
    "        fc2 = tf.layers.dense(fc1,84,activation=tf.nn.relu)\n",
    "        fc3 = tf.layers.dropout(fc2,rate = dropout,training=is_training)\n",
    "        logits = tf.layers.dense(fc2,n_classes)\n",
    "        \n",
    "        return logits\n",
    "    "
   ]
  },
  {
   "cell_type": "code",
   "execution_count": null,
   "metadata": {},
   "outputs": [],
   "source": []
  },
  {
   "cell_type": "code",
   "execution_count": 4,
   "metadata": {},
   "outputs": [],
   "source": [
    "x = tf.placeholder(tf.float32,[None,32,32,1])\n",
    "y_ph = tf.placeholder(tf.int32,[None,10])\n",
    "\n",
    "logits_train = lenet(x,num_classes,dropout,reuse=False,is_training=True)\n",
    "logits_test = lenet(x,num_classes,dropout,reuse=True,is_training=False)\n",
    "\n",
    "# # Predictions\n",
    "pred_classes = tf.argmax(logits_test,axis=1)\n",
    "pred_classes = tf.nn.softmax(logits_test)\n",
    "\n",
    "cross_entropy = tf.nn.softmax_cross_entropy_with_logits(logits=logits_train, \n",
    "                                                                        labels=y_ph)\n",
    "loss_op = tf.reduce_mean(cross_entropy)\n",
    "\n",
    " # Optimizer: set up a variable that's incremented once per batch and\n",
    "  # controls the learning rate decay.\n",
    "# batch = tf.Variable(0, dtype=data_type())\n",
    " # Decay once per epoch, using an exponential schedule starting at 0.01.\n",
    "# global_step = tf.Variable(0, trainable=False)\n",
    "initial_lr = 0.01\n",
    "k = 0.75\n",
    "decay_rate = 0.0005\n",
    "step = tf.Variable(0, trainable=False)\n",
    "assign_step = state_ops.assign(step, 0)\n",
    "increment_step = state_ops.assign_add(step, 1)\n",
    "learning_rate = tf.train.inverse_time_decay(initial_lr,\n",
    "                                            step,\n",
    "                                           k,\n",
    "                                           decay_rate)\n",
    "\n",
    "\n",
    "optimizer = tf.train.MomentumOptimizer(learning_rate=learning_rate,momentum=0.9)\n",
    "train_op = optimizer.minimize(loss_op,\n",
    "                             global_step=step)\n",
    "# eval accuracy of model\n",
    "correct_prediction = tf.equal(tf.argmax(logits_test, 1), tf.argmax(y_ph, 1))\n",
    "accuracy_operation = tf.reduce_mean(tf.cast(correct_prediction, tf.float32))"
   ]
  },
  {
   "cell_type": "code",
   "execution_count": 5,
   "metadata": {},
   "outputs": [],
   "source": [
    "sess = tf.InteractiveSession()\n",
    "tf.global_variables_initializer().run()"
   ]
  },
  {
   "cell_type": "code",
   "execution_count": 6,
   "metadata": {},
   "outputs": [
    {
     "name": "stdout",
     "output_type": "stream",
     "text": [
      "Image Shape: (28, 28, 1)\n",
      "()\n",
      "Training Set:   55000 samples\n",
      "Validation Set: 5000 samples\n",
      "Test Set:       10000 samples\n",
      "Updated Image Shape: (32, 32, 1)\n"
     ]
    }
   ],
   "source": [
    "X_train, y_train           = mnist.train.images, mnist.train.labels\n",
    "X_validation, y_validation = mnist.validation.images, mnist.validation.labels\n",
    "X_test, y_test             = mnist.test.images, mnist.test.labels\n",
    "\n",
    "print(\"Image Shape: {}\".format(X_train[0].shape))\n",
    "print()\n",
    "print(\"Training Set:   {} samples\".format(len(X_train)))\n",
    "print(\"Validation Set: {} samples\".format(len(X_validation)))\n",
    "print(\"Test Set:       {} samples\".format(len(X_test)))\n",
    "\n",
    "# Pad images with 0s\n",
    "X_train      = np.pad(X_train, ((0,0),(2,2),(2,2),(0,0)), 'constant')\n",
    "X_validation = np.pad(X_validation, ((0,0),(2,2),(2,2),(0,0)), 'constant')\n",
    "X_test       = np.pad(X_test, ((0,0),(2,2),(2,2),(0,0)), 'constant')\n",
    "    \n",
    "print(\"Updated Image Shape: {}\".format(X_train[0].shape))"
   ]
  },
  {
   "cell_type": "code",
   "execution_count": 7,
   "metadata": {},
   "outputs": [],
   "source": [
    "def next_batch(num, data, labels):\n",
    "    '''\n",
    "    Return a total of `num` random samples and labels. \n",
    "    '''\n",
    "    idx = np.arange(0 , len(data))\n",
    "    np.random.shuffle(idx)\n",
    "    idx = idx[:num]\n",
    "    data_shuffle = [data[ i] for i in idx]\n",
    "    labels_shuffle = [labels[ i] for i in idx]\n",
    "\n",
    "    return np.asarray(data_shuffle), np.asarray(labels_shuffle)"
   ]
  },
  {
   "cell_type": "code",
   "execution_count": 8,
   "metadata": {},
   "outputs": [
    {
     "name": "stdout",
     "output_type": "stream",
     "text": [
      "0\n",
      "Classification Error: 0.953125\n",
      "Accruacy: 0.046875\n",
      "1000\n",
      "Classification Error: 0.125\n",
      "Accruacy: 0.875\n",
      "2000\n",
      "Classification Error: 0.0625\n",
      "Accruacy: 0.9375\n",
      "3000\n",
      "Classification Error: 0.015625\n",
      "Accruacy: 0.984375\n",
      "4000\n",
      "Classification Error: 0.015625\n",
      "Accruacy: 0.984375\n",
      "5000\n",
      "Classification Error: 0.0\n",
      "Accruacy: 1.0\n",
      "6000\n",
      "Classification Error: 0.0\n",
      "Accruacy: 1.0\n",
      "7000\n",
      "Classification Error: 0.0625\n",
      "Accruacy: 0.9375\n",
      "8000\n",
      "Classification Error: 0.015625\n",
      "Accruacy: 0.984375\n",
      "9000\n",
      "Classification Error: 0.015625\n",
      "Accruacy: 0.984375\n"
     ]
    }
   ],
   "source": [
    "train_operation = optimizer.minimize(loss_op)\n",
    "error = []\n",
    "for i in range(10000):\n",
    "    # batch size is 64\n",
    "    x_batch, y_batch = next_batch(batch_size,X_train,y_train)\n",
    "    X_valid, y_valid = next_batch(batch_size,X_validation,y_validation)\n",
    "#     x_batch_test, y_batch_test = mnist.train.next_batch(100)\n",
    "    \n",
    "    sess.run(train_operation,feed_dict={x:x_batch,y_ph:y_batch})\n",
    "    if i%1000==0:\n",
    "        acc = accuracy_operation.eval(feed_dict={x:X_valid,y_ph:y_valid})\n",
    "        print i\n",
    "        print \"Classification Error:\",1-acc\n",
    "        print \"Accruacy:\",acc\n",
    "    if i%100==0:\n",
    "        error.append(1-acc)\n",
    "    \n",
    "    "
   ]
  },
  {
   "cell_type": "code",
   "execution_count": 9,
   "metadata": {},
   "outputs": [
    {
     "name": "stdout",
     "output_type": "stream",
     "text": [
      "0.0239999890327\n"
     ]
    }
   ],
   "source": [
    "# x_test_3 = mnist.test.images\n",
    "# y_test_3 = mnist.test.labels\n",
    "# print y_test_2.shape\n",
    "print 1-accuracy_operation.eval(feed_dict={x:X_validation,y_ph:y_validation})"
   ]
  },
  {
   "cell_type": "markdown",
   "metadata": {},
   "source": []
  },
  {
   "cell_type": "code",
   "execution_count": 10,
   "metadata": {},
   "outputs": [
    {
     "data": {
      "text/plain": [
       "<matplotlib.text.Text at 0x11d996790>"
      ]
     },
     "execution_count": 10,
     "metadata": {},
     "output_type": "execute_result"
    },
    {
     "data": {
      "image/png": "[encoded data removed]",
      "text/plain": [
       "<matplotlib.figure.Figure at 0x11d652f90>"
      ]
     },
     "metadata": {},
     "output_type": "display_data"
    }
   ],
   "source": [
    "plt.plot(range(len(error[10:])),error[10:])\n",
    "plt.title(\"Training Classification Error \")\n",
    "plt.xlabel(\"Every 100 iterations\")\n",
    "plt.ylabel(\"Classification error\")"
   ]
  },
  {
   "cell_type": "code",
   "execution_count": null,
   "metadata": {},
   "outputs": [],
   "source": []
  },
  {
   "cell_type": "code",
   "execution_count": 8,
   "metadata": {},
   "outputs": [],
   "source": [
    "# x_samples, y_samples = mnist.test.next_batch(100)\n",
    "# x_sample_tensor = tf.Variable(tf.constant(x_samples),name=\"test\")\n",
    "# y_sample_tensor = tf.Variable(tf.constant(y_samples),name=\"test\")"
   ]
  },
  {
   "cell_type": "code",
   "execution_count": 9,
   "metadata": {},
   "outputs": [
    {
     "name": "stdout",
     "output_type": "stream",
     "text": [
      "WARNING:tensorflow:From /Library/Python/2.7/site-packages/tensorflow/python/util/tf_should_use.py:107: initialize_variables (from tensorflow.python.ops.variables) is deprecated and will be removed after 2017-03-02.\n",
      "Instructions for updating:\n",
      "Use `tf.variables_initializer` instead.\n"
     ]
    }
   ],
   "source": [
    "#solution to initalize new variables after initalizing a session\n",
    "# https://stackoverflow.com/questions/35164529/in-tensorflow-is-there-any-way-to-just-initialize-uninitialised-variables\n",
    "init_new_vars_op = tf.initialize_variables([x_sample_tensor, y_sample_tensor])\n",
    "sess.run(init_new_vars_op)"
   ]
  },
  {
   "cell_type": "code",
   "execution_count": 11,
   "metadata": {},
   "outputs": [],
   "source": [
    "\n",
    "x_samples, y_samples = mnist.test.next_batch(10000)\n",
    "\n",
    "x_sample_tensor = tf.Variable(tf.constant(X_test),name=\"test\")\n",
    "y_sample_tensor = tf.Variable(tf.constant(y_test),name=\"test\")"
   ]
  },
  {
   "cell_type": "code",
   "execution_count": 12,
   "metadata": {},
   "outputs": [
    {
     "name": "stdout",
     "output_type": "stream",
     "text": [
      "WARNING:tensorflow:From /Library/Python/2.7/site-packages/tensorflow/python/util/tf_should_use.py:107: initialize_variables (from tensorflow.python.ops.variables) is deprecated and will be removed after 2017-03-02.\n",
      "Instructions for updating:\n",
      "Use `tf.variables_initializer` instead.\n"
     ]
    }
   ],
   "source": [
    "init_new_vars_op = tf.initialize_variables([x_sample_tensor, y_sample_tensor])\n",
    "sess.run(init_new_vars_op)"
   ]
  },
  {
   "cell_type": "code",
   "execution_count": 14,
   "metadata": {},
   "outputs": [
    {
     "name": "stdout",
     "output_type": "stream",
     "text": [
      "0\n",
      "1\n",
      "2\n"
     ]
    },
    {
     "ename": "KeyboardInterrupt",
     "evalue": "",
     "output_type": "error",
     "traceback": [
      "\u001b[0;31m---------------------------------------------------------------------------\u001b[0m",
      "\u001b[0;31mKeyboardInterrupt\u001b[0m                         Traceback (most recent call last)",
      "\u001b[0;32m<ipython-input-14-61a93537fcdf>\u001b[0m in \u001b[0;36m<module>\u001b[0;34m()\u001b[0m\n\u001b[1;32m      3\u001b[0m     \u001b[0;31m# set is_training = True if want dropout to be applied\u001b[0m\u001b[0;34m\u001b[0m\u001b[0;34m\u001b[0m\u001b[0m\n\u001b[1;32m      4\u001b[0m     \u001b[0;32mprint\u001b[0m \u001b[0mi\u001b[0m\u001b[0;34m\u001b[0m\u001b[0m\n\u001b[0;32m----> 5\u001b[0;31m     \u001b[0mprob\u001b[0m \u001b[0;34m=\u001b[0m \u001b[0mlenet\u001b[0m\u001b[0;34m(\u001b[0m\u001b[0mx_sample_tensor\u001b[0m\u001b[0;34m,\u001b[0m\u001b[0mnum_classes\u001b[0m\u001b[0;34m,\u001b[0m\u001b[0mdropout\u001b[0m\u001b[0;34m,\u001b[0m\u001b[0mreuse\u001b[0m\u001b[0;34m=\u001b[0m\u001b[0mTrue\u001b[0m\u001b[0;34m,\u001b[0m\u001b[0mis_training\u001b[0m\u001b[0;34m=\u001b[0m\u001b[0mTrue\u001b[0m\u001b[0;34m)\u001b[0m\u001b[0;34m.\u001b[0m\u001b[0meval\u001b[0m\u001b[0;34m(\u001b[0m\u001b[0;34m)\u001b[0m\u001b[0;34m\u001b[0m\u001b[0m\n\u001b[0m\u001b[1;32m      6\u001b[0m     \u001b[0mprobs\u001b[0m\u001b[0;34m+=\u001b[0m \u001b[0;34m[\u001b[0m\u001b[0mprob\u001b[0m\u001b[0;34m]\u001b[0m\u001b[0;34m\u001b[0m\u001b[0m\n\u001b[1;32m      7\u001b[0m \u001b[0;34m\u001b[0m\u001b[0m\n",
      "\u001b[0;32m/Library/Python/2.7/site-packages/tensorflow/python/framework/ops.pyc\u001b[0m in \u001b[0;36meval\u001b[0;34m(self, feed_dict, session)\u001b[0m\n\u001b[1;32m    568\u001b[0m \u001b[0;34m\u001b[0m\u001b[0m\n\u001b[1;32m    569\u001b[0m     \"\"\"\n\u001b[0;32m--> 570\u001b[0;31m     \u001b[0;32mreturn\u001b[0m \u001b[0m_eval_using_default_session\u001b[0m\u001b[0;34m(\u001b[0m\u001b[0mself\u001b[0m\u001b[0;34m,\u001b[0m \u001b[0mfeed_dict\u001b[0m\u001b[0;34m,\u001b[0m \u001b[0mself\u001b[0m\u001b[0;34m.\u001b[0m\u001b[0mgraph\u001b[0m\u001b[0;34m,\u001b[0m \u001b[0msession\u001b[0m\u001b[0;34m)\u001b[0m\u001b[0;34m\u001b[0m\u001b[0m\n\u001b[0m\u001b[1;32m    571\u001b[0m \u001b[0;34m\u001b[0m\u001b[0m\n\u001b[1;32m    572\u001b[0m   \u001b[0;32mdef\u001b[0m \u001b[0m_dup\u001b[0m\u001b[0;34m(\u001b[0m\u001b[0mself\u001b[0m\u001b[0;34m)\u001b[0m\u001b[0;34m:\u001b[0m\u001b[0;34m\u001b[0m\u001b[0m\n",
      "\u001b[0;32m/Library/Python/2.7/site-packages/tensorflow/python/framework/ops.pyc\u001b[0m in \u001b[0;36m_eval_using_default_session\u001b[0;34m(tensors, feed_dict, graph, session)\u001b[0m\n\u001b[1;32m   4453\u001b[0m                        \u001b[0;34m\"the tensor's graph is different from the session's \"\u001b[0m\u001b[0;34m\u001b[0m\u001b[0m\n\u001b[1;32m   4454\u001b[0m                        \"graph.\")\n\u001b[0;32m-> 4455\u001b[0;31m   \u001b[0;32mreturn\u001b[0m \u001b[0msession\u001b[0m\u001b[0;34m.\u001b[0m\u001b[0mrun\u001b[0m\u001b[0;34m(\u001b[0m\u001b[0mtensors\u001b[0m\u001b[0;34m,\u001b[0m \u001b[0mfeed_dict\u001b[0m\u001b[0;34m)\u001b[0m\u001b[0;34m\u001b[0m\u001b[0m\n\u001b[0m\u001b[1;32m   4456\u001b[0m \u001b[0;34m\u001b[0m\u001b[0m\n\u001b[1;32m   4457\u001b[0m \u001b[0;34m\u001b[0m\u001b[0m\n",
      "\u001b[0;32m/Library/Python/2.7/site-packages/tensorflow/python/client/session.pyc\u001b[0m in \u001b[0;36mrun\u001b[0;34m(self, fetches, feed_dict, options, run_metadata)\u001b[0m\n\u001b[1;32m    887\u001b[0m     \u001b[0;32mtry\u001b[0m\u001b[0;34m:\u001b[0m\u001b[0;34m\u001b[0m\u001b[0m\n\u001b[1;32m    888\u001b[0m       result = self._run(None, fetches, feed_dict, options_ptr,\n\u001b[0;32m--> 889\u001b[0;31m                          run_metadata_ptr)\n\u001b[0m\u001b[1;32m    890\u001b[0m       \u001b[0;32mif\u001b[0m \u001b[0mrun_metadata\u001b[0m\u001b[0;34m:\u001b[0m\u001b[0;34m\u001b[0m\u001b[0m\n\u001b[1;32m    891\u001b[0m         \u001b[0mproto_data\u001b[0m \u001b[0;34m=\u001b[0m \u001b[0mtf_session\u001b[0m\u001b[0;34m.\u001b[0m\u001b[0mTF_GetBuffer\u001b[0m\u001b[0;34m(\u001b[0m\u001b[0mrun_metadata_ptr\u001b[0m\u001b[0;34m)\u001b[0m\u001b[0;34m\u001b[0m\u001b[0m\n",
      "\u001b[0;32m/Library/Python/2.7/site-packages/tensorflow/python/client/session.pyc\u001b[0m in \u001b[0;36m_run\u001b[0;34m(self, handle, fetches, feed_dict, options, run_metadata)\u001b[0m\n\u001b[1;32m   1118\u001b[0m     \u001b[0;32mif\u001b[0m \u001b[0mfinal_fetches\u001b[0m \u001b[0;32mor\u001b[0m \u001b[0mfinal_targets\u001b[0m \u001b[0;32mor\u001b[0m \u001b[0;34m(\u001b[0m\u001b[0mhandle\u001b[0m \u001b[0;32mand\u001b[0m \u001b[0mfeed_dict_tensor\u001b[0m\u001b[0;34m)\u001b[0m\u001b[0;34m:\u001b[0m\u001b[0;34m\u001b[0m\u001b[0m\n\u001b[1;32m   1119\u001b[0m       results = self._do_run(handle, final_targets, final_fetches,\n\u001b[0;32m-> 1120\u001b[0;31m                              feed_dict_tensor, options, run_metadata)\n\u001b[0m\u001b[1;32m   1121\u001b[0m     \u001b[0;32melse\u001b[0m\u001b[0;34m:\u001b[0m\u001b[0;34m\u001b[0m\u001b[0m\n\u001b[1;32m   1122\u001b[0m       \u001b[0mresults\u001b[0m \u001b[0;34m=\u001b[0m \u001b[0;34m[\u001b[0m\u001b[0;34m]\u001b[0m\u001b[0;34m\u001b[0m\u001b[0m\n",
      "\u001b[0;32m/Library/Python/2.7/site-packages/tensorflow/python/client/session.pyc\u001b[0m in \u001b[0;36m_do_run\u001b[0;34m(self, handle, target_list, fetch_list, feed_dict, options, run_metadata)\u001b[0m\n\u001b[1;32m   1315\u001b[0m     \u001b[0;32mif\u001b[0m \u001b[0mhandle\u001b[0m \u001b[0;32mis\u001b[0m \u001b[0mNone\u001b[0m\u001b[0;34m:\u001b[0m\u001b[0;34m\u001b[0m\u001b[0m\n\u001b[1;32m   1316\u001b[0m       return self._do_call(_run_fn, self._session, feeds, fetches, targets,\n\u001b[0;32m-> 1317\u001b[0;31m                            options, run_metadata)\n\u001b[0m\u001b[1;32m   1318\u001b[0m     \u001b[0;32melse\u001b[0m\u001b[0;34m:\u001b[0m\u001b[0;34m\u001b[0m\u001b[0m\n\u001b[1;32m   1319\u001b[0m       \u001b[0;32mreturn\u001b[0m \u001b[0mself\u001b[0m\u001b[0;34m.\u001b[0m\u001b[0m_do_call\u001b[0m\u001b[0;34m(\u001b[0m\u001b[0m_prun_fn\u001b[0m\u001b[0;34m,\u001b[0m \u001b[0mself\u001b[0m\u001b[0;34m.\u001b[0m\u001b[0m_session\u001b[0m\u001b[0;34m,\u001b[0m \u001b[0mhandle\u001b[0m\u001b[0;34m,\u001b[0m \u001b[0mfeeds\u001b[0m\u001b[0;34m,\u001b[0m \u001b[0mfetches\u001b[0m\u001b[0;34m)\u001b[0m\u001b[0;34m\u001b[0m\u001b[0m\n",
      "\u001b[0;32m/Library/Python/2.7/site-packages/tensorflow/python/client/session.pyc\u001b[0m in \u001b[0;36m_do_call\u001b[0;34m(self, fn, *args)\u001b[0m\n\u001b[1;32m   1321\u001b[0m   \u001b[0;32mdef\u001b[0m \u001b[0m_do_call\u001b[0m\u001b[0;34m(\u001b[0m\u001b[0mself\u001b[0m\u001b[0;34m,\u001b[0m \u001b[0mfn\u001b[0m\u001b[0;34m,\u001b[0m \u001b[0;34m*\u001b[0m\u001b[0margs\u001b[0m\u001b[0;34m)\u001b[0m\u001b[0;34m:\u001b[0m\u001b[0;34m\u001b[0m\u001b[0m\n\u001b[1;32m   1322\u001b[0m     \u001b[0;32mtry\u001b[0m\u001b[0;34m:\u001b[0m\u001b[0;34m\u001b[0m\u001b[0m\n\u001b[0;32m-> 1323\u001b[0;31m       \u001b[0;32mreturn\u001b[0m \u001b[0mfn\u001b[0m\u001b[0;34m(\u001b[0m\u001b[0;34m*\u001b[0m\u001b[0margs\u001b[0m\u001b[0;34m)\u001b[0m\u001b[0;34m\u001b[0m\u001b[0m\n\u001b[0m\u001b[1;32m   1324\u001b[0m     \u001b[0;32mexcept\u001b[0m \u001b[0merrors\u001b[0m\u001b[0;34m.\u001b[0m\u001b[0mOpError\u001b[0m \u001b[0;32mas\u001b[0m \u001b[0me\u001b[0m\u001b[0;34m:\u001b[0m\u001b[0;34m\u001b[0m\u001b[0m\n\u001b[1;32m   1325\u001b[0m       \u001b[0mmessage\u001b[0m \u001b[0;34m=\u001b[0m \u001b[0mcompat\u001b[0m\u001b[0;34m.\u001b[0m\u001b[0mas_text\u001b[0m\u001b[0;34m(\u001b[0m\u001b[0me\u001b[0m\u001b[0;34m.\u001b[0m\u001b[0mmessage\u001b[0m\u001b[0;34m)\u001b[0m\u001b[0;34m\u001b[0m\u001b[0m\n",
      "\u001b[0;32m/Library/Python/2.7/site-packages/tensorflow/python/client/session.pyc\u001b[0m in \u001b[0;36m_run_fn\u001b[0;34m(session, feed_dict, fetch_list, target_list, options, run_metadata)\u001b[0m\n\u001b[1;32m   1300\u001b[0m           return tf_session.TF_Run(session, options,\n\u001b[1;32m   1301\u001b[0m                                    \u001b[0mfeed_dict\u001b[0m\u001b[0;34m,\u001b[0m \u001b[0mfetch_list\u001b[0m\u001b[0;34m,\u001b[0m \u001b[0mtarget_list\u001b[0m\u001b[0;34m,\u001b[0m\u001b[0;34m\u001b[0m\u001b[0m\n\u001b[0;32m-> 1302\u001b[0;31m                                    status, run_metadata)\n\u001b[0m\u001b[1;32m   1303\u001b[0m \u001b[0;34m\u001b[0m\u001b[0m\n\u001b[1;32m   1304\u001b[0m     \u001b[0;32mdef\u001b[0m \u001b[0m_prun_fn\u001b[0m\u001b[0;34m(\u001b[0m\u001b[0msession\u001b[0m\u001b[0;34m,\u001b[0m \u001b[0mhandle\u001b[0m\u001b[0;34m,\u001b[0m \u001b[0mfeed_dict\u001b[0m\u001b[0;34m,\u001b[0m \u001b[0mfetch_list\u001b[0m\u001b[0;34m)\u001b[0m\u001b[0;34m:\u001b[0m\u001b[0;34m\u001b[0m\u001b[0m\n",
      "\u001b[0;31mKeyboardInterrupt\u001b[0m: "
     ]
    }
   ],
   "source": [
    "probs = []\n",
    "for i in range(100):\n",
    "    # set is_training = True if want dropout to be applied\n",
    "    print i\n",
    "    prob = lenet(x_sample_tensor,num_classes,dropout,reuse=True,is_training=True).eval()\n",
    "    probs+= [prob]\n",
    "   \n",
    "    "
   ]
  },
  {
   "cell_type": "code",
   "execution_count": 86,
   "metadata": {},
   "outputs": [
    {
     "name": "stdout",
     "output_type": "stream",
     "text": [
      "(10000, 10)\n"
     ]
    }
   ],
   "source": [
    "print probs[0].shape"
   ]
  },
  {
   "cell_type": "code",
   "execution_count": 87,
   "metadata": {},
   "outputs": [
    {
     "name": "stdout",
     "output_type": "stream",
     "text": [
      "100\n",
      "(10000, 10)\n",
      "(10000, 10)\n"
     ]
    }
   ],
   "source": [
    "# mean 100 samples\n",
    "print len(probs)\n",
    "mean = np.mean(probs,axis=0)\n",
    "print mean.shape\n",
    "var = np.var(probs,axis=0)\n",
    "print var.shape\n",
    "# Tried to add model precision, \n",
    "# tau = (1**2*(1-0.5)) / (2*100*0.0005)\n",
    "# tau = 1**2*(1-0.5) / (2*100*0.0005) # No weight decay\n",
    "# var +=tau**-1\n",
    "# print \"var + tau:\", var"
   ]
  },
  {
   "cell_type": "code",
   "execution_count": 102,
   "metadata": {},
   "outputs": [
    {
     "name": "stdout",
     "output_type": "stream",
     "text": [
      "20\n",
      "(10000, 10)\n"
     ]
    }
   ],
   "source": [
    "p = probs[:20]\n",
    "print len(p)\n",
    "m = np.mean(p,axis=0)\n",
    "print m.shape\n",
    "\n",
    "correct_prediction = tf.equal(tf.argmax(m, 1), tf.argmax(y_test, 1))\n",
    "accuracy_operation = tf.reduce_mean(tf.cast(correct_prediction, tf.float32))\n",
    "acc_final = 1- accuracy_operation.eval()"
   ]
  },
  {
   "cell_type": "code",
   "execution_count": 89,
   "metadata": {},
   "outputs": [
    {
     "data": {
      "text/plain": [
       "0.97469997406005859"
      ]
     },
     "execution_count": 89,
     "metadata": {},
     "output_type": "execute_result"
    }
   ],
   "source": [
    "def get_classification_error(probs,i):\n",
    "    # i is how many samples to average\n",
    "    # makes it easy to get accuracy over 1,2,...,20,...100 samples\n",
    "    mean = np.mean(probs[:i],axis=0)\n",
    "    correct_prediction = tf.equal(tf.argmax(mean, 1), tf.argmax(y_sample_tensor, 1))\n",
    "    accuracy_operation = tf.reduce_mean(tf.cast(correct_prediction, tf.float32))\n",
    "    return 1-accuracy_operation.eval()\n",
    "1-get_classification_error(probs,20)"
   ]
  },
  {
   "cell_type": "code",
   "execution_count": 90,
   "metadata": {},
   "outputs": [],
   "source": [
    "mean_classification_error_over_samples = [get_classification_error(probs,i)for i in range(1,len(probs))]"
   ]
  },
  {
   "cell_type": "code",
   "execution_count": 28,
   "metadata": {},
   "outputs": [],
   "source": [
    "# mean_classification_error_over_samples\n"
   ]
  },
  {
   "cell_type": "markdown",
   "metadata": {},
   "source": [
    "## Here we show how the classification error decreases as you increase number of samples\n",
    "Here we see that after 20 samples, we get effective classification that performs better than LeNet accuracy over entire test set. \n",
    "\n",
    "## ToDo(Yue): Add classification error of LeNet-SGHMC over number of samples"
   ]
  },
  {
   "cell_type": "code",
   "execution_count": 105,
   "metadata": {},
   "outputs": [
    {
     "data": {
      "text/plain": [
       "<matplotlib.text.Text at 0x162568c10>"
      ]
     },
     "execution_count": 105,
     "metadata": {},
     "output_type": "execute_result"
    },
    {
     "data": {
      "image/png": "[encoded data removed]",
      "text/plain": [
       "<matplotlib.figure.Figure at 0x162529d10>"
      ]
     },
     "metadata": {},
     "output_type": "display_data"
    }
   ],
   "source": [
    "plt.plot(range(len(mean_classification_error_over_samples)),mean_classification_error_over_samples)\n",
    "plt.plot(range(len(mean_classification_error_over_samples)),[acc_final for i in range(len(mean_classification_error_over_samples))])\n",
    "plt.title(\"Classification Error Over Samples\")\n",
    "plt.xlabel(\"Number of samples\")\n",
    "plt.legend([\"LeNet-5 MC Dropout\",\"LeNet-5\"])\n",
    "plt.ylabel(\"Error \")"
   ]
  },
  {
   "cell_type": "code",
   "execution_count": 93,
   "metadata": {},
   "outputs": [
    {
     "data": {
      "text/plain": [
       "6.2810054"
      ]
     },
     "execution_count": 93,
     "metadata": {},
     "output_type": "execute_result"
    }
   ],
   "source": [
    "np.mean(np.var(probs[:100],axis=0)[:,0])"
   ]
  },
  {
   "cell_type": "code",
   "execution_count": 97,
   "metadata": {},
   "outputs": [],
   "source": [
    "var = [[np.mean(np.var(probs[:i],axis=0)[:,j]) for i in range(1,len(probs))] for j in range(10)]\n",
    "# plt.plot(range(len(var)),var)\n",
    "# plt.title(\"Variance Error Over Samples\")\n",
    "# plt.xlabel(\"Number of samples\")\n",
    "# plt.ylabel(\"Error \")"
   ]
  },
  {
   "cell_type": "code",
   "execution_count": 98,
   "metadata": {},
   "outputs": [
    {
     "name": "stdout",
     "output_type": "stream",
     "text": [
      "99\n",
      "99\n"
     ]
    }
   ],
   "source": [
    "print len(var[0])\n",
    "print len(var[1])"
   ]
  },
  {
   "cell_type": "markdown",
   "metadata": {},
   "source": [
    "## The goal here is to show hopefully that the variance decreases as the number of samples increase (we can or dont have to place this in the result)\n",
    "\n",
    "### We see that after 10 samples, the variance does not increase for all 10 classes. The variance is still large, but may not be that important as the CNN seems to handle variability well in the network. \n",
    "We can get some insight that digit 6 is the most challenging\n",
    "\n",
    "## ToDo(Yue): Make another graph showing LeNet-SGHMC variance (per class) over number of samples\n",
    "   ### I think we can show that SGHMC has less variance per class than MC Dropout\n"
   ]
  },
  {
   "cell_type": "markdown",
   "metadata": {},
   "source": []
  },
  {
   "cell_type": "code",
   "execution_count": 106,
   "metadata": {},
   "outputs": [
    {
     "data": {
      "image/png": "[encoded data removed]",
      "text/plain": [
       "<matplotlib.figure.Figure at 0x16243d490>"
      ]
     },
     "metadata": {},
     "output_type": "display_data"
    }
   ],
   "source": [
    "plt.plot(range(len(var[0])),var[0])\n",
    "plt.plot(range(len(var[0])),var[1])\n",
    "plt.plot(range(len(var[0])),var[2])\n",
    "plt.plot(range(len(var[0])),var[3])\n",
    "plt.plot(range(len(var[0])),var[4])\n",
    "plt.plot(range(len(var[0])),var[5])\n",
    "plt.plot(range(len(var[0])),var[6])\n",
    "plt.plot(range(len(var[0])),var[7])\n",
    "plt.plot(range(len(var[0])),var[8])\n",
    "plt.plot(range(len(var[0])),var[9])\n",
    "plt.title(\"MC Dropout: Variance Over Samples Per class\")\n",
    "plt.xlabel(\"Number of samples\")\n",
    "plt.ylabel(\"Variance \")\n",
    "plt.legend(['0','1','2','3','4','5','6','7','8','9'])\n",
    "plt.show()"
   ]
  },
  {
   "cell_type": "code",
   "execution_count": null,
   "metadata": {},
   "outputs": [],
   "source": [
    "def get_classification_variance(probs,i):\n",
    "    # i is how many samples to average\n",
    "    # makes it easy to get accuracy over 1,2,...,20,...100 samples\n",
    "    var = np.var(probs[:i],axis=0)\n",
    "    correct_prediction = tf.equal(tf.argmax(mean, 1), tf.argmax(y_sample_tensor, 1))\n",
    "    accuracy_operation = tf.reduce_mean(tf.cast(correct_prediction, tf.float32))\n",
    "    return 1-accuracy_operation.eval()\n",
    "1-get_classification_error(probs,20)"
   ]
  },
  {
   "cell_type": "code",
   "execution_count": 77,
   "metadata": {},
   "outputs": [],
   "source": [
    "# print var"
   ]
  },
  {
   "cell_type": "code",
   "execution_count": null,
   "metadata": {},
   "outputs": [],
   "source": [
    "plt.plot(range(4),[mean_2plt.title(\"Avg Classification Error Over Samples\")\n",
    "plt.xlabel(\"Number of samples\")\n",
    "plt.ylabel(\"Error \")5_samples,mean_50_samples,])"
   ]
  },
  {
   "cell_type": "markdown",
   "metadata": {},
   "source": [
    "# Accuracy of Bayes CNN after averaging 100 samples of entire test dataset"
   ]
  },
  {
   "cell_type": "code",
   "execution_count": 49,
   "metadata": {},
   "outputs": [
    {
     "name": "stdout",
     "output_type": "stream",
     "text": [
      "0.9772\n"
     ]
    }
   ],
   "source": [
    "# logits.shape\n",
    "correct_prediction = tf.equal(tf.argmax(mean, 1), tf.argmax(y_sample_tensor, 1))\n",
    "accuracy_operation = tf.reduce_mean(tf.cast(correct_prediction, tf.float32))\n",
    "print accuracy_operation.eval()"
   ]
  },
  {
   "cell_type": "code",
   "execution_count": 45,
   "metadata": {},
   "outputs": [],
   "source": []
  },
  {
   "cell_type": "code",
   "execution_count": 46,
   "metadata": {},
   "outputs": [
    {
     "name": "stdout",
     "output_type": "stream",
     "text": [
      "1.0\n"
     ]
    }
   ],
   "source": []
  }
 ],
 "metadata": {
  "kernelspec": {
   "display_name": "Python 2",
   "language": "python",
   "name": "python2"
  },
  "language_info": {
   "codemirror_mode": {
    "name": "ipython",
    "version": 2
   },
   "file_extension": ".py",
   "mimetype": "text/x-python",
   "name": "python",
   "nbconvert_exporter": "python",
   "pygments_lexer": "ipython2",
   "version": "2.7.10"
  }
 },
 "nbformat": 4,
 "nbformat_minor": 2
}
