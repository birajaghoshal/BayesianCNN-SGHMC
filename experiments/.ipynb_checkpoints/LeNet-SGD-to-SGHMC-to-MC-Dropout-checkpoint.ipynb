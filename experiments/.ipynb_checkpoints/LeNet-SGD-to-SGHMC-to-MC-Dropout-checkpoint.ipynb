{
 "cells": [
  {
   "cell_type": "markdown",
   "metadata": {},
   "source": [
    "# MNIST"
   ]
  },
  {
   "cell_type": "code",
   "execution_count": 1,
   "metadata": {},
   "outputs": [],
   "source": [
    "%matplotlib inline\n",
    "import matplotlib.pyplot as plt\n",
    "import numpy as np\n",
    "import seaborn as sns\n",
    "import tensorflow as tf\n",
    "from tensorflow.examples.tutorials.mnist import input_data\n",
    "from edward.models import Categorical, Normal, Empirical\n",
    "import edward as ed\n",
    "import pandas as pd\n",
    "ed.set_seed(314159)"
   ]
  },
  {
   "cell_type": "markdown",
   "metadata": {},
   "source": [
    "Use the TensorFlow method to download and/or load the data"
   ]
  },
  {
   "cell_type": "code",
   "execution_count": 2,
   "metadata": {},
   "outputs": [
    {
     "name": "stdout",
     "output_type": "stream",
     "text": [
      "Extracting MNIST_data2/train-images-idx3-ubyte.gz\n",
      "Extracting MNIST_data2/train-labels-idx1-ubyte.gz\n",
      "Extracting MNIST_data2/t10k-images-idx3-ubyte.gz\n",
      "Extracting MNIST_data2/t10k-labels-idx1-ubyte.gz\n"
     ]
    }
   ],
   "source": [
    "mnist = input_data.read_data_sets(\"MNIST_data2/\",reshape=False,one_hot = True)"
   ]
  },
  {
   "cell_type": "markdown",
   "metadata": {},
   "source": [
    "Task is to classify the handwritten MNIST digits into one of the classes {0,1,2,...,9} and give a measure of the uncertainty of our classification. \n",
    "* Our machine learning model will be a simple soft-max regression, and for this we first need to choose a likelihood function to quantify the probability of the observed data given a set of parameters (weights and biases in our case). \n",
    "\n",
    "* We will use a Categorical likelihood function (see Chapter 2, Machine Learning: a Probabilistic Perspective by Kevin Murphy for a detailed description of Categorical distribution, also called Multinoulli distribution.).\n"
   ]
  },
  {
   "cell_type": "markdown",
   "metadata": {},
   "source": [
    "We next set up some placeholder variables in TensorFlow. \n",
    "* This follows the same procedure as you would for a standard neural network except that we use Edward to place priors on the weights and biases. \n",
    "* In the code below, we place a normal Gaussian prior on the weights and biases."
   ]
  },
  {
   "cell_type": "code",
   "execution_count": 3,
   "metadata": {},
   "outputs": [],
   "source": [
    "config = tf.ConfigProto()\n",
    "config.gpu_options.allocator_type = 'BFC'\n",
    "sess = tf.InteractiveSession(config=config)\n",
    "# Initalize all the variables in the session\n",
    "# tf.global_variables_initializer().run()\n",
    "init = tf.global_variables_initializer()\n",
    "sess.run(init)"
   ]
  },
  {
   "cell_type": "code",
   "execution_count": 4,
   "metadata": {},
   "outputs": [],
   "source": [
    "# ed.set_seed(314159)\n",
    "N = 64   # number of images in a minibatch.\n",
    "D = 784   # number of features.\n",
    "K = 10    # number of classes."
   ]
  },
  {
   "cell_type": "code",
   "execution_count": 5,
   "metadata": {},
   "outputs": [],
   "source": [
    "mu = 0\n",
    "sigma = 0.1\n",
    "conv1_W = tf.Variable(tf.truncated_normal(shape=(5, 5, 1, 6)))\n",
    "conv1_b = tf.Variable(tf.zeros(6))\n",
    "\n",
    "conv2_W = tf.Variable(tf.truncated_normal(shape=(5, 5, 6, 16), mean = mu, stddev = sigma))\n",
    "conv2_b = tf.Variable(tf.zeros(16))\n",
    "\n",
    "\n",
    "fc1_W = tf.Variable(tf.truncated_normal(shape=(256, 120), mean = mu, stddev = sigma))\n",
    "fc1_b = tf.Variable(tf.zeros(120))\n",
    "\n",
    "fc2_W  = tf.Variable(tf.truncated_normal(shape=(120, 84), mean = mu, stddev = sigma))\n",
    "fc2_b  = tf.Variable(tf.zeros(84))\n",
    "\n",
    "fc3_W  = tf.Variable(tf.truncated_normal(shape=(84, 10), mean = mu, stddev = sigma))\n",
    "fc3_b  = tf.Variable(tf.zeros(10))\n",
    "\n",
    "\n",
    "\n",
    "def lenet_forward(x,conv1_W,conv2_W, fc1_W, fc2_W,\n",
    "          fc3_W,conv1_b , conv2_b, fc1_b, fc2_b, fc3_b ):\n",
    "        \n",
    "        conv1   = tf.nn.conv2d(x, conv1_W, strides=[1, 1, 1, 1], padding='VALID') + conv1_b\n",
    "        conv1 = tf.nn.relu(conv1)\n",
    "        conv1 = tf.nn.max_pool(conv1, ksize=[1, 2, 2, 1], strides=[1, 2, 2, 1], padding='VALID')\n",
    "        \n",
    "        conv2   = tf.nn.conv2d(conv1, conv2_W, strides=[1, 1, 1, 1], padding='VALID') + conv2_b\n",
    "        conv2 = tf.nn.relu(conv2)\n",
    "        conv2 = tf.nn.max_pool(conv2, ksize=[1, 2, 2, 1], strides=[1, 2, 2, 1], padding='VALID')\n",
    "\n",
    "        fc0   = tf.contrib.layers.flatten(conv2)\n",
    "        fc1   = tf.matmul(fc0, fc1_W) + fc1_b\n",
    "        fc1    = tf.nn.relu(fc1)\n",
    "        fc2    = tf.matmul(fc1, fc2_W) + fc2_b\n",
    "        fc2    = tf.nn.relu(fc2)\n",
    "        logits = tf.matmul(fc2, fc3_W) + fc3_b\n",
    "        \n",
    "        return logits\n",
    "def lenet_forward2(x,conv1_W,conv2_W,conv1_b , conv2_b ):\n",
    "        \n",
    "        conv1   = tf.nn.conv2d(x, conv1_W, strides=[1, 1, 1, 1], padding='VALID') + conv1_b\n",
    "        conv1 = tf.nn.relu(conv1)\n",
    "        conv1 = tf.nn.max_pool(conv1, ksize=[1, 2, 2, 1], strides=[1, 2, 2, 1], padding='VALID')\n",
    "        \n",
    "        conv2   = tf.nn.conv2d(conv1, conv2_W, strides=[1, 1, 1, 1], padding='VALID') + conv2_b\n",
    "        conv2 = tf.nn.relu(conv2)\n",
    "        conv2 = tf.nn.max_pool(conv2, ksize=[1, 2, 2, 1], strides=[1, 2, 2, 1], padding='VALID')\n",
    "\n",
    "        fc0   = tf.contrib.layers.flatten(conv2)\n",
    "        return fc0\n",
    "        \n",
    "def lenet_forward3(x,fc1_W, fc2_W,\n",
    "          fc3_W, fc1_b, fc2_b, fc3_b ):\n",
    "        \n",
    "        fc1   = tf.matmul(x, fc1_W) + fc1_b\n",
    "        fc1    = tf.nn.relu(fc1)\n",
    "        fc2    = tf.matmul(fc1, fc2_W) + fc2_b\n",
    "        fc2    = tf.nn.relu(fc2)\n",
    "        logits = tf.matmul(fc2, fc3_W) + fc3_b\n",
    "        \n",
    "        return logits\n",
    "\n",
    "x = tf.placeholder(tf.float32,shape=[None,28,28,1])\n",
    "y = tf.placeholder(tf.int32, (None))\n",
    "logits = lenet_forward(x,conv1_W,conv2_W, fc1_W, fc2_W,\n",
    "          fc3_W,conv1_b , conv2_b, fc1_b, fc2_b, fc3_b)\n",
    "y_ph = tf.one_hot(y, 10)\n",
    "    "
   ]
  },
  {
   "cell_type": "code",
   "execution_count": 6,
   "metadata": {},
   "outputs": [],
   "source": [
    "cross_entropy = tf.nn.softmax_cross_entropy_with_logits(logits=logits,labels= y_ph)\n",
    "loss_operation = tf.reduce_mean(cross_entropy)\n",
    "initial_lr = 0.01\n",
    "k = 0.75\n",
    "decay_rate = 0.0005\n",
    "step = tf.Variable(0, trainable=False)\n",
    "\n",
    "learning_rate = tf.train.inverse_time_decay(initial_lr,\n",
    "                                            step,\n",
    "                                           k,\n",
    "                                           decay_rate)\n",
    "\n",
    "\n",
    "optimizer = tf.train.MomentumOptimizer(learning_rate=learning_rate,momentum=0.9)\n",
    "train_op = optimizer.minimize(loss_operation,\n",
    "                             global_step=step)\n",
    "\n",
    "\n",
    "\n",
    "correct_prediction = tf.equal(tf.argmax(logits, 1), tf.argmax(y_ph, 1))\n",
    "accuracy_operation = tf.reduce_mean(tf.cast(correct_prediction, tf.float32))\n",
    "saver = tf.train.Saver()"
   ]
  },
  {
   "cell_type": "code",
   "execution_count": 7,
   "metadata": {},
   "outputs": [],
   "source": [
    "# sess = tf.InteractiveSession()\n",
    "# Initalize all the variables in the session\n",
    "# tf.global_variables_initializer().run()\n",
    "init = tf.global_variables_initializer()\n",
    "sess.run(init)"
   ]
  },
  {
   "cell_type": "code",
   "execution_count": null,
   "metadata": {},
   "outputs": [],
   "source": [
    "# load entire test set\n",
    "\n",
    "# Tensorflow method gives the label data in a hot vector format. WE convert to single label.\n"
   ]
  },
  {
   "cell_type": "markdown",
   "metadata": {},
   "source": []
  },
  {
   "cell_type": "code",
   "execution_count": null,
   "metadata": {},
   "outputs": [
    {
     "name": "stdout",
     "output_type": "stream",
     "text": [
      "0.109375\n",
      "0.984375\n",
      "0.984375\n"
     ]
    }
   ],
   "source": [
    "#100 epochs\n",
    "# training_operation = optimizer.minimize(loss_operation)\n",
    "for i in range(10000):\n",
    "    X_batch, Y_batch = mnist.train.next_batch(64)\n",
    "    X_test, Y_test = mnist.test.next_batch(64)\n",
    "#     X_batch_test, Y_batch_test = mnist.test.images\n",
    "    # Tensorflow method, gives the label data in a one hot vector format.\n",
    "    # We convert taht into a single label\n",
    "#     Y_batch = np.argmax(Y_batch, axis=1)\n",
    "    res = sess.run(train_op,feed_dict={x: X_batch, y_ph: Y_batch})\n",
    "\n",
    "    if i%1000==0:\n",
    "#         res = sess.run(train_op,feed_dict={x: X_batch, y_ph: Y_batch})\n",
    "        print(accuracy_operation.eval(feed_dict={x: X_test, y_ph: Y_test}))\n"
   ]
  },
  {
   "cell_type": "code",
   "execution_count": null,
   "metadata": {},
   "outputs": [],
   "source": []
  },
  {
   "cell_type": "markdown",
   "metadata": {},
   "source": [
    "# LeNet Accuracy after 25k batches"
   ]
  },
  {
   "cell_type": "code",
   "execution_count": null,
   "metadata": {},
   "outputs": [],
   "source": [
    "print(accuracy_operation.eval(feed_dict={x: X_test, y_ph: Y_test}))\n"
   ]
  },
  {
   "cell_type": "code",
   "execution_count": null,
   "metadata": {},
   "outputs": [],
   "source": [
    "a = conv1_W.eval()\n",
    "b = conv1_b.eval()\n",
    "c = conv2_W.eval()\n",
    "d = conv2_b.eval()\n",
    "# print tf.zeros([5,5]), a.shape"
   ]
  },
  {
   "cell_type": "code",
   "execution_count": null,
   "metadata": {},
   "outputs": [],
   "source": [
    "# # Define LeNet weights for SGHMC\n",
    "\n",
    "\n",
    "x2 = tf.placeholder(tf.float32,[None,256])\n",
    "fc1_W = Normal(loc=tf.zeros([256, 120]), scale = tf.ones([256, 120]))\n",
    "fc1_b= Normal(loc=tf.zeros(120), scale = tf.ones(120))\n",
    "\n",
    "# fc2_W  = tf.Variable(tf.truncated_normal(shape=(120, 84), mean = mu, stddev = sigma))\n",
    "# fc2_b  = tf.Variable(tf.zeros(84))\n",
    "\n",
    "fc2_W = Normal(loc=tf.zeros([120, 84]), scale = tf.ones([120, 84]))\n",
    "fc2_b= Normal(loc=tf.zeros(84), scale = tf.ones(84))\n",
    "\n",
    "# fc3_W  = tf.Variable(tf.truncated_normal(shape=(84, 10), mean = mu, stddev = sigma))\n",
    "# fc3_b  = tf.Variable(tf.zeros(10))\n",
    "\n",
    "fc3_W = Normal(loc=tf.zeros([84, 10]), scale = tf.ones([84, 10]))\n",
    "fc3_b= Normal(loc=tf.zeros(10), scale = tf.ones(10))"
   ]
  },
  {
   "cell_type": "code",
   "execution_count": null,
   "metadata": {},
   "outputs": [],
   "source": [
    "\n",
    "y2 = Categorical(lenet_forward3(x2,fc1_W, fc2_W,\n",
    "          fc3_W, fc1_b, fc2_b, fc3_b ))"
   ]
  },
  {
   "cell_type": "code",
   "execution_count": null,
   "metadata": {},
   "outputs": [],
   "source": [
    "\n",
    "# T = 25000 #30 epochs at 64 batch size\n",
    "# T= 78125 #100 epochs at 64 batch size\n",
    "T= 30000 #100+ epochs at 64 batch size\n",
    "\n",
    "qconv1_W = Empirical(params=tf.Variable(tf.zeros([T,5, 5, 1, 6])))\n",
    "\n",
    "qconv1_b = Empirical(params=tf.Variable(tf.zeros([T,6])))\n",
    "                  \n",
    "\n",
    "qconv2_W = Empirical(params=tf.Variable(tf.zeros([T,5, 5, 6, 16])))\n",
    "qconv2_b = Empirical(params=tf.Variable(tf.zeros([T,16])))\n",
    "\n",
    "\n",
    "qfc1_W = Empirical(params=tf.Variable(tf.random_normal([T,256,120])))\n",
    "            \n",
    "qfc1_b = Empirical(params=tf.Variable(tf.random_normal([T,120])))\n",
    "\n",
    "\n",
    "qfc2_W  = Empirical(params=tf.Variable(tf.random_normal([T,120,84])))\n",
    "                                  \n",
    "qfc2_b  =  Empirical(params=tf.Variable(tf.random_normal([T,84])))\n",
    "\n",
    "\n",
    "\n",
    "qfc3_W  = Empirical(params=tf.Variable(tf.random_normal([T,84,10])))\n",
    "qfc3_b  = Empirical(params=tf.Variable(tf.random_normal([T,10])))\n",
    "\n",
    "\n"
   ]
  },
  {
   "cell_type": "markdown",
   "metadata": {},
   "source": [
    "Up to this point we have defined the likelihood P(y|x,;ω)P(y|x,;ω) and the prior P(ω)P(ω), next we want to use Bayes rule to compute the posterior P(ω|y,x)P(ω|y,x)"
   ]
  },
  {
   "cell_type": "markdown",
   "metadata": {},
   "source": [
    "However, we immediately face a problem because in practice the probability of the outputs P(y)P(y) is computationally intractable to compute for large instances and so we don't attempt to calculate the posterior directly."
   ]
  },
  {
   "cell_type": "markdown",
   "metadata": {},
   "source": [
    "To tackle this problem we will instead be using Variational Inference (VI). In Variational Inference we choose a family of parameterised distributions Q(ω;λ)Q(ω;λ) over parameters ωω to approximate the true posterior, and then optimize the parameters λλ so as to match the true posterior distribution as best as possible. The core idea is to minimise what is known as the Kullback-Leibler divergence between the true posterior P(ω|y,x)P(ω|y,x) and the approximating ditribution Q(ω;λ)Q(ω;λ), which can be thought of as a measure of the disimilarity between two probability distributions.\n"
   ]
  },
  {
   "cell_type": "markdown",
   "metadata": {},
   "source": [
    "The theory behind VI is beyond the scope of this blog, so more more information a quick introduction to VI can be found in Edward's documentation and a detailed one in Variational Inference: A Review for Statisticians by Blei et al.. Chapter 33 or MacKay's book is also a very good reference."
   ]
  },
  {
   "cell_type": "markdown",
   "metadata": {},
   "source": [
    "So next we use Edward to set up the approximating distributions Qw(ω)Qw(ω) for the weights and Qb(ω)Qb(ω) for the biases:"
   ]
  },
  {
   "cell_type": "code",
   "execution_count": null,
   "metadata": {},
   "outputs": [],
   "source": [
    "# We use a placeholder for the labels in anticipation of the training data\n",
    "conv1_W = tf.Variable(tf.constant(a), name=\"w\")\n",
    "conv1_b = tf.Variable(tf.constant(b),name=\"b\")\n",
    "\n",
    "conv2_W = tf.Variable(tf.constant(c),name=\"w2\")\n",
    "conv2_b = tf.Variable(tf.constant(d),name=\"b2\")\n",
    "\n",
    "x2 = tf.placeholder(tf.float32,[None,256],name=\"x\")\n",
    "\n",
    "\n",
    "y2 = Categorical(lenet_forward3(x2,fc1_W, fc2_W,\n",
    "          fc3_W, fc1_b, fc2_b, fc3_b ), name=\"y\")\n",
    "\n",
    "# Note: batch size is 128\n",
    "y_ph = tf.placeholder(tf.int32, [64])\n",
    "x_ph = tf.placeholder(tf.float32, [256])\n",
    "# Define the VI inference technique, ie. minimize the KL divergence between q and p\n",
    "inference = ed.SGHMC({\n",
    "fc1_W:qfc1_W,\n",
    "fc1_b:qfc1_b,\n",
    "fc2_W:qfc2_W,\n",
    "fc2_b:qfc2_b,\n",
    "fc3_W:qfc3_W,\n",
    "fc3_b:qfc3_b}, data={y2:y_ph})"
   ]
  },
  {
   "cell_type": "code",
   "execution_count": null,
   "metadata": {},
   "outputs": [],
   "source": [
    "###### Initalize the inference variables\n",
    "# Q: what does this do?!\n",
    "'''FOR SGHMC'''\n",
    "# inference.initialize(n_iter=5000, n_print=100,step_size=0.4e-5, friction=0.01)\n",
    "# 1-friction= momentum\n",
    "inference.initialize(n_iter=5000, n_print=100,step_size=0.8e-5)\n",
    "\n",
    "# '''FOR KL'''\n",
    "# inference.initialize(n_iter=1000, n_print=100, scale={y: float(mnist.train.num_examples) / N})"
   ]
  },
  {
   "cell_type": "markdown",
   "metadata": {},
   "source": [
    " Now we are ready to perform Variational Inference. \n",
    " We load up a TensorFlow session and start the iterations. Will take a few minutes."
   ]
  },
  {
   "cell_type": "code",
   "execution_count": null,
   "metadata": {},
   "outputs": [],
   "source": [
    "#### tf.reset_default_graph()\n",
    "config = tf.ConfigProto()\n",
    "config.gpu_options.allocator_type = 'BFC'\n",
    "# We will use an interactive session\n",
    "sess = tf.InteractiveSession(config=config)\n",
    "# Initalize all the variables in the session\n",
    "tf.global_variables_initializer().run()"
   ]
  },
  {
   "cell_type": "code",
   "execution_count": null,
   "metadata": {},
   "outputs": [],
   "source": [
    "X_tr = mnist.train.images\n",
    "# Tensorflow method gives the label data in a hot vector format. WE convert to single label.\n",
    "Y_tr = np.argmax(mnist.train.labels,axis=1)\n",
    "X_2_tr=lenet_forward2(X_tr,conv1_W,conv2_W,conv1_b , conv2_b ).eval()"
   ]
  },
  {
   "cell_type": "code",
   "execution_count": null,
   "metadata": {},
   "outputs": [],
   "source": [
    "def next_batch(num, data, labels):\n",
    "    '''\n",
    "    Return a total of `num` random samples and labels. \n",
    "    '''\n",
    "    idx = np.arange(0 , len(data))\n",
    "    np.random.shuffle(idx)\n",
    "    idx = idx[:num]\n",
    "    data_shuffle = [data[ i] for i in idx]\n",
    "    labels_shuffle = [labels[ i] for i in idx]\n",
    "\n",
    "    return np.asarray(data_shuffle), np.asarray(labels_shuffle)"
   ]
  },
  {
   "cell_type": "code",
   "execution_count": null,
   "metadata": {},
   "outputs": [],
   "source": [
    "# Train model. \n",
    "# We load data in minibatches and update the VI inference using each new batch\n",
    "for _ in range(inference.n_iter):\n",
    "    X_batch_tr, Y_batch_tr = next_batch(64,X_2_tr,Y_tr)# preprocess image to fc layers\n",
    "\n",
    "#     Y_batch = np.argmax(Y_batch_tr, axis=1)\n",
    "    info_dict = inference.update(feed_dict={x2: X_batch_tr, y_ph: Y_batch_tr})\n",
    "    inference.print_progress(info_dict)"
   ]
  },
  {
   "cell_type": "markdown",
   "metadata": {},
   "source": [
    "# Evaluate Model"
   ]
  },
  {
   "cell_type": "markdown",
   "metadata": {},
   "source": [
    "We now have everything that we need to run our model on the test data, let's see how good our model is! "
   ]
  },
  {
   "cell_type": "markdown",
   "metadata": {},
   "source": [
    "The major difference in Bayesian model evaluation is that there is no single value for the weights and biases that we should use to evaluate the model."
   ]
  },
  {
   "cell_type": "markdown",
   "metadata": {},
   "source": [
    " Instead we should use the distribution of weights and biases in our model so that the uncertainties in these parameters are reflected in the final prediction."
   ]
  },
  {
   "cell_type": "markdown",
   "metadata": {},
   "source": [
    "Thus instead of a single prediction we get a set of predictions and their accuracies."
   ]
  },
  {
   "cell_type": "markdown",
   "metadata": {},
   "source": [
    "We draw a 100 samples from the posterior distribution and see how we perform on each of these samples. Taking samples be might a slow process, may take few seconds!"
   ]
  },
  {
   "cell_type": "code",
   "execution_count": null,
   "metadata": {},
   "outputs": [],
   "source": [
    "# Load test images\n",
    "X_test = mnist.test.images\n",
    "# Tensorflow method gives the label data in a hot vector format. WE convert to single label.\n",
    "Y_test = np.argmax(mnist.test.labels,axis=1)\n",
    "X_2_test=lenet_forward2(X_test,conv1_W,conv2_W,conv1_b , conv2_b ).eval()"
   ]
  },
  {
   "cell_type": "code",
   "execution_count": null,
   "metadata": {},
   "outputs": [],
   "source": [
    "# Generate samples the posterior and store them\n",
    "n_samples = 100\n",
    "prob_lst = []\n",
    "samples = []\n",
    "conv1_W_samples = []\n",
    "conv1_b_samples = []\n",
    "conv2_W_samples = []\n",
    "conv2_b_samples = []\n",
    "fc1_W_samples = []\n",
    "fc1_b_samples = []\n",
    "fc2_W_samples = []\n",
    "fc2_b_samples = []\n",
    "fc3_W_samples = []\n",
    "fc3_b_samples = []\n",
    "for i in range(100):\n",
    "    if i%10==0:\n",
    "        print i\n",
    "    \n",
    "#     conv1_W_samp = qconv1_W.sample()\n",
    "#     conv1_b_samp=qconv1_b.sample()\n",
    "#     conv2_W_samp = qconv2_W.sample()\n",
    "#     conv2_b_samp = qconv2_b.sample()\n",
    "    fc1_W_samp = qfc1_W.sample()\n",
    "    fc1_b_samp = qfc1_b.sample()\n",
    "    fc2_W_samp= qfc2_W.sample()\n",
    "    fc2_b_samp = qfc2_b.sample()\n",
    "    fc3_W_samp = qfc3_W.sample()\n",
    "    fc3_b_samp = qfc3_b.sample()\n",
    "    \n",
    "    \n",
    "    \n",
    "#     conv1_W_samples.append(conv1_W_samp)\n",
    "#     conv1_b_samples.append(conv1_b_samp)\n",
    "#     conv2_W_samples.append(conv2_W_samp)\n",
    "#     conv2_b_samples.append(conv2_b_samp)\n",
    "    fc1_W_samples.append(fc1_W_samp)\n",
    "    fc1_b_samples.append(fc1_b_samp)\n",
    "    fc2_W_samples.append(fc2_W_samp)\n",
    "    fc2_b_samples.append(fc2_b_samp)\n",
    "    fc3_W_samples.append(fc3_W_samp)\n",
    "    fc3_b_samples.append(fc3_b_samp)\n",
    "    \n",
    "    # Also compute the probability of each class for each (w,b) sample.\n",
    "#     h = tf.nn.softmax(tf.matmul(X_test,w_samp) + b_samp)\n",
    "    prob= lenet_forward3(X_2_test,fc1_W_samp, fc2_W_samp,\n",
    "          fc3_W_samp, fc1_b_samp, fc2_b_samp, fc3_b_samp )\n",
    "#     print prob\n",
    "    \n",
    "    prob_lst.append(prob.eval())\n",
    "#     w_samp_reshape = tf.reshape(w_samp,[-1])\n",
    "#     sample = tf.concat([w_samp_reshape,b_samp],0)\n",
    "#     samples.append(sample.eval())"
   ]
  },
  {
   "cell_type": "code",
   "execution_count": null,
   "metadata": {},
   "outputs": [],
   "source": [
    "# Compute the accuracy of the model.\n",
    "\n",
    "accy_test = []\n",
    "for prob in prob_lst:\n",
    "    # For each sample we compute the predicted class and compare with the test labels\n",
    "    y_trn_prd = np.argmax(prob, axis=1).astype(np.float32)\n",
    "    # Predicted class is defined as the one which has maximum probability\n",
    "    # We preform this test for each (w,b) in the posterior giving us a set of accuracies\n",
    "    acc = (y_trn_prd == Y_test).mean()*100\n",
    "    accy_test.append(acc)"
   ]
  },
  {
   "cell_type": "code",
   "execution_count": null,
   "metadata": {
    "scrolled": true
   },
   "outputs": [],
   "source": [
    "# Finally we make a histogram of accuracies for the test data.\n",
    "plt.hist(accy_test)\n",
    "plt.title(\"Histogram of prediction accuracies in the MNIST test data\")\n",
    "plt.xlabel(\"Accuracy\")\n",
    "plt.ylabel(\"Frequency\")"
   ]
  },
  {
   "cell_type": "code",
   "execution_count": null,
   "metadata": {},
   "outputs": [],
   "source": [
    "# Here we compute the mean of probabilties for each class for all the (w,b) samples.\n",
    "# We then use the class with maximum of the mean proabilities as the prediction. \n",
    "# In other words, we have used (w,b) samples to construct a set of models and\n",
    "# used their combined outputs to make the predcitions.\n",
    "Y_pred = np.argmax(np.mean(prob_lst,axis=0),axis=1)\n",
    "print(\"accuracy in predicting the test data = \", (Y_pred == Y_test).mean()*100)"
   ]
  },
  {
   "cell_type": "markdown",
   "metadata": {},
   "source": [
    "# MC Dropout"
   ]
  },
  {
   "cell_type": "code",
   "execution_count": null,
   "metadata": {},
   "outputs": [],
   "source": [
    "tf.reset_default_graph()\n",
    "sess = tf.InteractiveSession()\n",
    "# Initalize all the variables in the session\n",
    "# tf.global_variables_initializer().run()\n",
    "init = tf.global_variables_initializer()\n",
    "sess.run(init)"
   ]
  },
  {
   "cell_type": "code",
   "execution_count": null,
   "metadata": {},
   "outputs": [],
   "source": [
    "# ed.set_seed(314159)\n",
    "N = 64   # number of images in a minibatch.\n",
    "D = 784   # number of features.\n",
    "K = 10    # number of classes."
   ]
  },
  {
   "cell_type": "code",
   "execution_count": null,
   "metadata": {},
   "outputs": [],
   "source": [
    "mu = 0\n",
    "sigma = 0.1\n",
    "conv1_W = tf.Variable(tf.truncated_normal(shape=(5, 5, 1, 6)))\n",
    "conv1_b = tf.Variable(tf.zeros(6))\n",
    "\n",
    "conv2_W = tf.Variable(tf.truncated_normal(shape=(5, 5, 6, 16), mean = mu, stddev = sigma))\n",
    "conv2_b = tf.Variable(tf.zeros(16))\n",
    "\n",
    "\n",
    "fc1_W = tf.Variable(tf.truncated_normal(shape=(256, 120), mean = mu, stddev = sigma))\n",
    "fc1_b = tf.Variable(tf.zeros(120))\n",
    "\n",
    "fc2_W  = tf.Variable(tf.truncated_normal(shape=(120, 84), mean = mu, stddev = sigma))\n",
    "fc2_b  = tf.Variable(tf.zeros(84))\n",
    "\n",
    "fc3_W  = tf.Variable(tf.truncated_normal(shape=(84, 10), mean = mu, stddev = sigma))\n",
    "fc3_b  = tf.Variable(tf.zeros(10))\n",
    "\n",
    "\n",
    "\n",
    "def lenet_forward(x,conv1_W,conv2_W, fc1_W, fc2_W,\n",
    "          fc3_W,conv1_b , conv2_b, fc1_b, fc2_b, fc3_b ):\n",
    "        \n",
    "        conv1   = tf.nn.conv2d(x, conv1_W, strides=[1, 1, 1, 1], padding='VALID') + conv1_b\n",
    "        conv1 = tf.nn.relu(conv1)\n",
    "        conv1 = tf.nn.max_pool(conv1, ksize=[1, 2, 2, 1], strides=[1, 2, 2, 1], padding='VALID')\n",
    "        conv1 = tf.nn.dropout(conv1,keep_prob=0.5)\n",
    "        conv2   = tf.nn.conv2d(conv1, conv2_W, strides=[1, 1, 1, 1], padding='VALID') + conv2_b\n",
    "        conv2 = tf.nn.relu(conv2)\n",
    "        conv2 = tf.nn.max_pool(conv2, ksize=[1, 2, 2, 1], strides=[1, 2, 2, 1], padding='VALID')\n",
    "        conv2 = tf.nn.dropout(conv2,keep_prob=0.5)\n",
    "\n",
    "        fc0   = tf.contrib.layers.flatten(conv2)\n",
    "        fc1   = tf.matmul(fc0, fc1_W) + fc1_b\n",
    "        fc1    = tf.nn.relu(fc1)\n",
    "        fc1 = tf.nn.dropout(fc1,keep_prob=0.5)\n",
    "        fc2    = tf.matmul(fc1, fc2_W) + fc2_b\n",
    "        fc2    = tf.nn.relu(fc2)\n",
    "        fc2 = tf.nn.dropout(fc2,keep_prob=0.5)\n",
    "        logits = tf.matmul(fc2, fc3_W) + fc3_b\n",
    "        \n",
    "        return logits\n",
    "def lenet_forward2(x,conv1_W,conv2_W,conv1_b , conv2_b ):\n",
    "        \n",
    "        conv1   = tf.nn.conv2d(x, conv1_W, strides=[1, 1, 1, 1], padding='VALID') + conv1_b\n",
    "        conv1 = tf.nn.relu(conv1)\n",
    "        conv1 = tf.nn.max_pool(conv1, ksize=[1, 2, 2, 1], strides=[1, 2, 2, 1], padding='VALID')\n",
    "        conv1 = tf.nn.dropout(conv1,keep_prob=0.5,)\n",
    "        conv2   = tf.nn.conv2d(conv1, conv2_W, strides=[1, 1, 1, 1], padding='VALID') + conv2_b\n",
    "        conv2 = tf.nn.relu(conv2)\n",
    "        conv2 = tf.nn.max_pool(conv2, ksize=[1, 2, 2, 1], strides=[1, 2, 2, 1], padding='VALID')\n",
    "        conv2 = tf.nn.dropout(conv2,keep_prob=0.5)\n",
    "        \n",
    "        fc0   = tf.contrib.layers.flatten(conv2)\n",
    "        return fc0\n",
    "        \n",
    "def lenet_forward3(x,fc1_W, fc2_W,\n",
    "          fc3_W, fc1_b, fc2_b, fc3_b ):\n",
    "        \n",
    "        fc1   = tf.matmul(x, fc1_W) + fc1_b\n",
    "        fc1    = tf.nn.relu(fc1)\n",
    "        fc2    = tf.matmul(fc1, fc2_W) + fc2_b\n",
    "        fc2    = tf.nn.relu(fc2)\n",
    "        logits = tf.matmul(fc2, fc3_W) + fc3_b\n",
    "        \n",
    "        return logits\n",
    "\n",
    "x = tf.placeholder(tf.float32,shape=[None,28,28,1])\n",
    "y = tf.placeholder(tf.int32, (None))\n",
    "logits = lenet_forward(x,conv1_W,conv2_W, fc1_W, fc2_W,\n",
    "          fc3_W,conv1_b , conv2_b, fc1_b, fc2_b, fc3_b)\n",
    "y_ph = tf.one_hot(y, 10)\n",
    "    "
   ]
  },
  {
   "cell_type": "code",
   "execution_count": null,
   "metadata": {},
   "outputs": [],
   "source": [
    "cross_entropy = tf.nn.softmax_cross_entropy_with_logits(logits=logits,labels= y_ph)\n",
    "loss_operation = tf.reduce_mean(cross_entropy)\n",
    "initial_lr = 0.01\n",
    "k = 0.75\n",
    "decay_rate = 0.0005\n",
    "step = tf.Variable(0, trainable=False)\n",
    "\n",
    "learning_rate = tf.train.inverse_time_decay(initial_lr,\n",
    "                                            step,\n",
    "                                           k,\n",
    "                                           decay_rate)\n",
    "\n",
    "\n",
    "optimizer = tf.train.MomentumOptimizer(learning_rate=learning_rate,momentum=0.9)\n",
    "train_op = optimizer.minimize(loss_operation,\n",
    "                             global_step=step)\n",
    "\n",
    "\n",
    "correct_prediction = tf.equal(tf.argmax(logits, 1), tf.argmax(y_ph, 1))\n",
    "accuracy_operation = tf.reduce_mean(tf.cast(correct_prediction, tf.float32))\n",
    "saver = tf.train.Saver()"
   ]
  },
  {
   "cell_type": "code",
   "execution_count": null,
   "metadata": {},
   "outputs": [],
   "source": [
    "sess = tf.InteractiveSession()\n",
    "# Initalize all the variables in the session\n",
    "# tf.global_variables_initializer().run()\n",
    "init = tf.global_variables_initializer()\n",
    "sess.run(init)"
   ]
  },
  {
   "cell_type": "code",
   "execution_count": null,
   "metadata": {},
   "outputs": [],
   "source": [
    "# Load entire test set\n",
    "# X_batch_test, Y_batch_test = mnist.test.next_batch(10000)"
   ]
  },
  {
   "cell_type": "code",
   "execution_count": null,
   "metadata": {},
   "outputs": [],
   "source": [
    "#100 epochs\n",
    "# training_operation = optimizer.minimize(loss_operation)\n",
    "for i in range(10000):\n",
    "    X_batch, Y_batch = mnist.train.next_batch(64)\n",
    "    X_batch_test, Y_batch_test = mnist.test.next_batch(64)\n",
    "    # Tensorflow method, gives the label data in a one hot vector format.\n",
    "    # We convert taht into a single label\n",
    "#     Y_batch = np.argmax(Y_batch, axis=1)\n",
    "    res = sess.run(train_op,feed_dict={x: X_batch, y_ph: Y_batch})\n",
    "\n",
    "    if i%1000==0:\n",
    "        print(accuracy_operation.eval(feed_dict={x: X_batch_test, y_ph: Y_batch_test}))\n"
   ]
  },
  {
   "cell_type": "markdown",
   "metadata": {},
   "source": [
    "# LeNet with all parameter layers having dropout"
   ]
  },
  {
   "cell_type": "code",
   "execution_count": null,
   "metadata": {},
   "outputs": [],
   "source": [
    "\n",
    "print(accuracy_operation.eval(feed_dict={x: X_batch_test, y_ph: Y_batch_test}))\n"
   ]
  },
  {
   "cell_type": "code",
   "execution_count": null,
   "metadata": {},
   "outputs": [],
   "source": [
    "x_samples, y_samples = mnist.test.next_batch(100)\n",
    "x_sample_tensor = tf.Variable(tf.constant(x_samples),name=\"test\")\n",
    "y_sample_tensor = tf.Variable(tf.constant(y_samples),name=\"test\")"
   ]
  },
  {
   "cell_type": "code",
   "execution_count": null,
   "metadata": {},
   "outputs": [],
   "source": []
  },
  {
   "cell_type": "code",
   "execution_count": null,
   "metadata": {},
   "outputs": [],
   "source": [
    "init_new_vars_op = tf.initialize_variables([x_sample_tensor, y_sample_tensor])\n",
    "sess.run(init_new_vars_op)"
   ]
  },
  {
   "cell_type": "code",
   "execution_count": null,
   "metadata": {},
   "outputs": [],
   "source": [
    "probs = []\n",
    "for i in range(100):\n",
    "    # set is_training = True if want dropout to be applied\n",
    "    print i\n",
    "    prob = lenet_forward(x_samples,conv1_W,conv2_W, fc1_W, fc2_W,\n",
    "          fc3_W,conv1_b , conv2_b, fc1_b, fc2_b, fc3_b ).eval()\n",
    "    probs+= [prob]\n",
    "   "
   ]
  },
  {
   "cell_type": "code",
   "execution_count": null,
   "metadata": {},
   "outputs": [],
   "source": [
    "# mean 100 samples\n",
    "print len(probs)\n",
    "mean = np.mean(probs,axis=0)\n",
    "print mean.shape\n",
    "var = np.var(probs,axis=0)\n",
    "print var.shape"
   ]
  },
  {
   "cell_type": "markdown",
   "metadata": {},
   "source": [
    "# LeNet-MCDropout score"
   ]
  },
  {
   "cell_type": "code",
   "execution_count": null,
   "metadata": {},
   "outputs": [],
   "source": [
    "p = probs[:20]\n",
    "print len(p)\n",
    "m = np.mean(p,axis=0)\n",
    "print m.shape\n",
    "\n",
    "correct_prediction = tf.equal(tf.argmax(m, 1), tf.argmax(y_sample_tensor, 1))\n",
    "accuracy_operation = tf.reduce_mean(tf.cast(correct_prediction, tf.float32))\n",
    "acc_final = 1- accuracy_operation.eval()\n",
    "print acc_final"
   ]
  },
  {
   "cell_type": "code",
   "execution_count": null,
   "metadata": {},
   "outputs": [],
   "source": [
    "def get_classification_error(probs,i):\n",
    "    # i is how many samples to average\n",
    "    # makes it easy to get accuracy over 1,2,...,20,...100 samples\n",
    "    mean = np.mean(probs[:i],axis=0)\n",
    "    correct_prediction = tf.equal(tf.argmax(mean, 1), tf.argmax(y_sample_tensor, 1))\n",
    "    accuracy_operation = tf.reduce_mean(tf.cast(correct_prediction, tf.float32))\n",
    "    return 1-accuracy_operation.eval()\n",
    "1-get_classification_error(probs,20)"
   ]
  },
  {
   "cell_type": "code",
   "execution_count": null,
   "metadata": {},
   "outputs": [],
   "source": []
  },
  {
   "cell_type": "code",
   "execution_count": null,
   "metadata": {},
   "outputs": [],
   "source": [
    "mean_classification_error_over_samples = [get_classification_error(probs,i)for i in range(1,len(probs))]"
   ]
  },
  {
   "cell_type": "markdown",
   "metadata": {},
   "source": [
    "## Here we show how the classification error decreases as you increase number of samples\n",
    "Here we see that after 20 samples, we get effective classification that performs better than LeNet accuracy over entire test set. \n",
    "\n",
    "## ToDo(Yue): Add classification error of LeNet-SGHMC over number of samples"
   ]
  },
  {
   "cell_type": "code",
   "execution_count": null,
   "metadata": {},
   "outputs": [],
   "source": [
    "# mean_classification_error_over_samples = [get_classification_error(probs,i)for i in range(1,len(probs))]"
   ]
  },
  {
   "cell_type": "code",
   "execution_count": null,
   "metadata": {},
   "outputs": [],
   "source": [
    "plt.plot(range(len(mean_classification_error_over_samples)),mean_classification_error_over_samples)\n",
    "plt.plot(range(len(mean_classification_error_over_samples)),[acc_final for i in range(len(mean_classification_error_over_samples))])\n",
    "plt.title(\"Classification Error Over Samples\")\n",
    "plt.xlabel(\"Number of samples\")\n",
    "plt.legend([\"LeNet-5 MC Dropout\",\"LeNet-5-Dropout-all\"])\n",
    "plt.ylabel(\"Error \")"
   ]
  },
  {
   "cell_type": "code",
   "execution_count": null,
   "metadata": {},
   "outputs": [],
   "source": [
    "var = [[np.mean(np.var(probs[:i],axis=0)[:,j]) for i in range(1,len(probs))] for j in range(10)]\n",
    "print len(var[0])\n",
    "print len(var[1])"
   ]
  },
  {
   "cell_type": "code",
   "execution_count": null,
   "metadata": {},
   "outputs": [],
   "source": [
    "np.mean(np.var(probs[:100],axis=0)[:,0])"
   ]
  },
  {
   "cell_type": "markdown",
   "metadata": {},
   "source": [
    "## The goal here is to show hopefully that the variance decreases as the number of samples increase (we can or dont have to place this in the result)\n",
    "\n",
    "### We see that after 10 samples, the variance does not increase for all 10 classes. The variance is still large, but may not be that important as the CNN seems to handle variability well in the network. \n",
    "We can get some insight that digit 6 is the most challenging\n",
    "\n",
    "## ToDo(Yue): Make another graph showing LeNet-SGHMC variance (per class) over number of samples\n",
    "   ### I think we can show that SGHMC has less variance per class than MC Dropout\n"
   ]
  },
  {
   "cell_type": "code",
   "execution_count": null,
   "metadata": {},
   "outputs": [],
   "source": [
    "plt.plot(range(len(var[0])),var[0])\n",
    "plt.plot(range(len(var[0])),var[1])\n",
    "plt.plot(range(len(var[0])),var[2])\n",
    "plt.plot(range(len(var[0])),var[3])\n",
    "plt.plot(range(len(var[0])),var[4])\n",
    "plt.plot(range(len(var[0])),var[5])\n",
    "plt.plot(range(len(var[0])),var[6])\n",
    "plt.plot(range(len(var[0])),var[7])\n",
    "plt.plot(range(len(var[0])),var[8])\n",
    "plt.plot(range(len(var[0])),var[9])\n",
    "plt.title(\"MC Dropout: Variance Over Samples Per class\")\n",
    "plt.xlabel(\"Number of samples\")\n",
    "plt.ylabel(\"Variance \")\n",
    "plt.legend(['0','1','2','3','4','5','6','7','8','9'])\n",
    "plt.show()"
   ]
  },
  {
   "cell_type": "code",
   "execution_count": null,
   "metadata": {},
   "outputs": [],
   "source": [
    "def get_classification_variance(probs,i):\n",
    "    # i is how many samples to average\n",
    "    # makes it easy to get accuracy over 1,2,...,20,...100 samples\n",
    "    var = np.var(probs[:i],axis=0)\n",
    "    correct_prediction = tf.equal(tf.argmax(mean, 1), tf.argmax(y_sample_tensor, 1))\n",
    "    accuracy_operation = tf.reduce_mean(tf.cast(correct_prediction, tf.float32))\n",
    "    return 1-accuracy_operation.eval()\n",
    "1-get_classification_error(probs,20)"
   ]
  },
  {
   "cell_type": "code",
   "execution_count": null,
   "metadata": {},
   "outputs": [],
   "source": [
    "plt.plot(range(4),[mean_2plt.title(\"Avg Classification Error Over Samples\")\n",
    "plt.xlabel(\"Number of samples\")\n",
    "plt.ylabel(\"Error \")5_samples,mean_50_samples,])"
   ]
  },
  {
   "cell_type": "markdown",
   "metadata": {},
   "source": [
    "# Accuracy of Bayes CNN after averaging 100 samples of entire test dataset"
   ]
  },
  {
   "cell_type": "code",
   "execution_count": null,
   "metadata": {},
   "outputs": [],
   "source": [
    "# # logits.shape\n",
    "# correct_prediction = tf.equal(tf.argmax(mean, 1), tf.argmax(y_sample_tensor, 1))\n",
    "# accuracy_operation = tf.reduce_mean(tf.cast(correct_prediction, tf.float32))\n",
    "# print accuracy_operation.eval()"
   ]
  }
 ],
 "metadata": {
  "kernelspec": {
   "display_name": "Python 2",
   "language": "python",
   "name": "python2"
  },
  "language_info": {
   "codemirror_mode": {
    "name": "ipython",
    "version": 2
   },
   "file_extension": ".py",
   "mimetype": "text/x-python",
   "name": "python",
   "nbconvert_exporter": "python",
   "pygments_lexer": "ipython2",
   "version": "2.7.10"
  }
 },
 "nbformat": 4,
 "nbformat_minor": 2
}
