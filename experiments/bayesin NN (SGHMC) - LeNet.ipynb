{
 "cells": [
  {
   "cell_type": "markdown",
   "metadata": {},
   "source": [
    "# MNIST"
   ]
  },
  {
   "cell_type": "code",
   "execution_count": 1,
   "metadata": {},
   "outputs": [],
   "source": [
    "%matplotlib inline\n",
    "import matplotlib.pyplot as plt\n",
    "import numpy as np\n",
    "import seaborn as sns\n",
    "import tensorflow as tf\n",
    "from tensorflow.examples.tutorials.mnist import input_data\n",
    "from edward.models import Categorical, Normal, Empirical\n",
    "import edward as ed\n",
    "import pandas as pd"
   ]
  },
  {
   "cell_type": "code",
   "execution_count": null,
   "metadata": {},
   "outputs": [],
   "source": []
  },
  {
   "cell_type": "markdown",
   "metadata": {},
   "source": [
    "Use the TensorFlow method to download and/or load the data"
   ]
  },
  {
   "cell_type": "code",
   "execution_count": 2,
   "metadata": {},
   "outputs": [
    {
     "name": "stdout",
     "output_type": "stream",
     "text": [
      "Extracting MNIST_data2/train-images-idx3-ubyte.gz\n",
      "Extracting MNIST_data2/train-labels-idx1-ubyte.gz\n",
      "Extracting MNIST_data2/t10k-images-idx3-ubyte.gz\n",
      "Extracting MNIST_data2/t10k-labels-idx1-ubyte.gz\n"
     ]
    }
   ],
   "source": [
    "mnist = input_data.read_data_sets(\"MNIST_data2/\",reshape=False,one_hot = True)"
   ]
  },
  {
   "cell_type": "markdown",
   "metadata": {},
   "source": [
    "Task is to classify the handwritten MNIST digits into one of the classes {0,1,2,...,9} and give a measure of the uncertainty of our classification. \n",
    "* Our machine learning model will be a simple soft-max regression, and for this we first need to choose a likelihood function to quantify the probability of the observed data given a set of parameters (weights and biases in our case). \n",
    "\n",
    "* We will use a Categorical likelihood function (see Chapter 2, Machine Learning: a Probabilistic Perspective by Kevin Murphy for a detailed description of Categorical distribution, also called Multinoulli distribution.).\n"
   ]
  },
  {
   "cell_type": "markdown",
   "metadata": {},
   "source": [
    "We next set up some placeholder variables in TensorFlow. \n",
    "* This follows the same procedure as you would for a standard neural network except that we use Edward to place priors on the weights and biases. \n",
    "* In the code below, we place a normal Gaussian prior on the weights and biases."
   ]
  },
  {
   "cell_type": "code",
   "execution_count": 3,
   "metadata": {},
   "outputs": [],
   "source": [
    "# ed.set_seed(314159)\n",
    "N = 500   # number of images in a minibatch.\n",
    "D = 784   # number of features.\n",
    "K = 10    # number of classes."
   ]
  },
  {
   "cell_type": "code",
   "execution_count": 4,
   "metadata": {},
   "outputs": [],
   "source": [
    "# Define LeNet weights\n",
    "mu = 0\n",
    "sigma = 0.1\n",
    "# conv1_W = tf.Variable(tf.truncated_normal(shape=(5, 5, 1, 6), mean = mu, stddev = sigma))\n",
    "# conv1_b = tf.Variable(tf.zeros(6))\n",
    "conv1_W = Normal(loc=tf.zeros([5, 5, 1, 6]), scale = tf.ones([5, 5, 1, 6]))\n",
    "conv1_b= Normal(loc=tf.zeros(6), scale = tf.ones(6))\n",
    "\n",
    "# conv2_W = tf.Variable(tf.truncated_normal(shape=(5, 5, 6, 16), mean = mu, stddev = sigma))\n",
    "# conv2_b = tf.Variable(tf.zeros(16))\n",
    "\n",
    "conv2_W = Normal(loc=tf.zeros([5, 5, 6, 16]), scale = tf.ones([5, 5, 6, 16]))\n",
    "conv2_b= Normal(loc=tf.zeros(16), scale = tf.ones(16))\n",
    "\n",
    "# fc1_W = tf.Variable(tf.truncated_normal(shape=(400, 120), mean = mu, stddev = sigma))\n",
    "# fc1_b = tf.Variable(tf.zeros(120))\n",
    "\n",
    "fc1_W = Normal(loc=tf.zeros([256, 120]), scale = tf.ones([256, 120]))\n",
    "fc1_b= Normal(loc=tf.zeros(120), scale = tf.ones(120))\n",
    "\n",
    "# fc2_W  = tf.Variable(tf.truncated_normal(shape=(120, 84), mean = mu, stddev = sigma))\n",
    "# fc2_b  = tf.Variable(tf.zeros(84))\n",
    "\n",
    "fc2_W = Normal(loc=tf.zeros([120, 84]), scale = tf.ones([120, 84]))\n",
    "fc2_b= Normal(loc=tf.zeros(84), scale = tf.ones(84))\n",
    "\n",
    "# fc3_W  = tf.Variable(tf.truncated_normal(shape=(84, 10), mean = mu, stddev = sigma))\n",
    "# fc3_b  = tf.Variable(tf.zeros(10))\n",
    "\n",
    "fc3_W = Normal(loc=tf.zeros([84, 10]), scale = tf.ones([84, 10]))\n",
    "fc3_b= Normal(loc=tf.zeros(10), scale = tf.ones(10))"
   ]
  },
  {
   "cell_type": "code",
   "execution_count": 5,
   "metadata": {},
   "outputs": [],
   "source": [
    "def lenet_forward(x,conv1_W,conv2_W, fc1_W, fc2_W,\n",
    "          fc3_W,conv1_b , conv2_b, fc1_b, fc2_b, fc3_b ):\n",
    "        \n",
    "        conv1   = tf.nn.conv2d(x, conv1_W, strides=[1, 1, 1, 1], padding='VALID') + conv1_b\n",
    "        conv1 = tf.nn.relu(conv1)\n",
    "        conv1 = tf.nn.max_pool(conv1, ksize=[1, 2, 2, 1], strides=[1, 2, 2, 1], padding='VALID')\n",
    "        \n",
    "        conv2   = tf.nn.conv2d(conv1, conv2_W, strides=[1, 1, 1, 1], padding='VALID') + conv2_b\n",
    "        conv2 = tf.nn.relu(conv2)\n",
    "        conv2 = tf.nn.max_pool(conv2, ksize=[1, 2, 2, 1], strides=[1, 2, 2, 1], padding='VALID')\n",
    "\n",
    "        fc0   = tf.contrib.layers.flatten(conv2)\n",
    "        fc1   = tf.matmul(fc0, fc1_W) + fc1_b\n",
    "        fc1    = tf.nn.relu(fc1)\n",
    "        fc2    = tf.matmul(fc1, fc2_W) + fc2_b\n",
    "        fc2    = tf.nn.relu(fc2)\n",
    "        logits = tf.matmul(fc2, fc3_W) + fc3_b\n",
    "        \n",
    "        return logits\n",
    "x = tf.placeholder(tf.float32,shape=[None,28,28,1])\n",
    "\n",
    "y = Categorical(lenet_forward(x,conv1_W,conv2_W, fc1_W, fc2_W,\n",
    "          fc3_W,conv1_b , conv2_b, fc1_b, fc2_b, fc3_b))\n",
    "    "
   ]
  },
  {
   "cell_type": "code",
   "execution_count": 6,
   "metadata": {},
   "outputs": [],
   "source": [
    "# qw = Normal(loc=tf.Variable(tf.random_normal([D,100])),\n",
    "#                            scale = tf.nn.softmax(tf.Variable(tf.random_normal([D,100]))))# dim of weights\n",
    "# qb = Normal(loc=tf.Variable(tf.random_normal([100])),\n",
    "#            scale = tf.nn.softmax(tf.Variable(tf.random_normal([100]))))\n",
    "\n",
    "# qw1 = Normal(loc=tf.Variable(tf.random_normal([100,K])),\n",
    "#                            scale = tf.nn.softmax(tf.Variable(tf.random_normal([100,K]))))# dim of weights\n",
    "# qb1 = Normal(loc=tf.Variable(tf.random_normal([K])),\n",
    "#            scale = tf.nn.softmax(tf.Variable(tf.random_normal([K]))))\n",
    "'''\n",
    "FOR KL DIVERGENCE\n",
    "'''\n",
    "# qconv1_W = Normal(loc=tf.Variable(tf.random_normal(shape=(5, 5, 1, 6), mean = mu, stddev = sigma)),\n",
    "#                   scale = tf.Variable(tf.random_normal(shape=(5, 5, 1, 6), mean = mu, stddev = sigma)))\n",
    "\n",
    "# qconv1_b = Normal(loc=tf.Variable(tf.random_normal([6])),\n",
    "#                   scale = tf.Variable(tf.random_normal([6])))\n",
    "                  \n",
    "\n",
    "# qconv2_W = Normal(loc=tf.Variable(tf.random_normal(shape=(5, 5, 6, 16), mean = mu, stddev = sigma)),\n",
    "#                                  scale =tf.Variable(tf.random_normal(shape=(5, 5, 6, 16), mean = mu, stddev = sigma) ))\n",
    "# qconv2_b = Normal(loc=tf.Variable(tf.random_normal([16])),\n",
    "#                   scale = tf.Variable(tf.random_normal([16])))\n",
    "\n",
    "\n",
    "# qfc1_W = Normal(loc=tf.Variable(tf.random_normal(shape=(256, 120), mean = mu, stddev = sigma)), \n",
    "#                 scale = tf.Variable(tf.random_normal(shape=(256, 120), mean = mu, stddev = sigma)))\n",
    "            \n",
    "# qfc1_b = Normal(loc=tf.Variable(tf.random_normal([120])),\n",
    "#                 scale = tf.Variable(tf.random_normal([120])))\n",
    "\n",
    "\n",
    "# qfc2_W  = Normal(loc=tf.Variable(tf.random_normal(shape=(120, 84), mean = mu, stddev = sigma)),\n",
    "#                  scale=tf.Variable(tf.random_normal(shape=(120, 84), mean = mu, stddev = sigma)))\n",
    "                                  \n",
    "# qfc2_b  =  Normal(loc=tf.Variable(tf.random_normal([84])),\n",
    "#                   scale = tf.Variable(tf.random_normal([84])))\n",
    "\n",
    "\n",
    "\n",
    "# qfc3_W  = Normal(loc=tf.Variable(tf.random_normal(shape=(84, 10), mean = mu, stddev = sigma)),\n",
    "#                  scale = tf.Variable(tf.random_normal(shape=(84, 10), mean = mu, stddev = sigma)))\n",
    "# qfc3_b  = Normal(loc=tf.Variable(tf.random_normal([10])),\n",
    "#                  scale=tf.Variable(tf.random_normal([10])))\n",
    "T = 7000\n",
    "qconv1_W = Empirical(params=tf.Variable(tf.random_normal([T,5, 5, 1, 6])))\n",
    "\n",
    "qconv1_b = Empirical(params=tf.Variable(tf.random_normal([T,6])))\n",
    "                  \n",
    "\n",
    "qconv2_W = Empirical(params=tf.Variable(tf.random_normal([T,5, 5, 6, 16])))\n",
    "qconv2_b = Empirical(params=tf.Variable(tf.random_normal([T,16])))\n",
    "\n",
    "\n",
    "qfc1_W = Empirical(params=tf.Variable(tf.random_normal([T,256,120])))\n",
    "            \n",
    "qfc1_b = Empirical(params=tf.Variable(tf.random_normal([T,120])))\n",
    "\n",
    "\n",
    "qfc2_W  = Empirical(params=tf.Variable(tf.random_normal([T,120,84])))\n",
    "                                  \n",
    "qfc2_b  =  Empirical(params=tf.Variable(tf.random_normal([T,84])))\n",
    "\n",
    "\n",
    "\n",
    "qfc3_W  = Empirical(params=tf.Variable(tf.random_normal([T,84,10])))\n",
    "qfc3_b  = Empirical(params=tf.Variable(tf.random_normal([T,10])))\n",
    "\n"
   ]
  },
  {
   "cell_type": "code",
   "execution_count": 7,
   "metadata": {},
   "outputs": [],
   "source": [
    "# # Create placeholder to hold the data (in minibatches) in a Tensorflow graph\n",
    "# x = tf.placeholder(tf.float32,shape=[None,D])\n",
    "# # y = tf.placeholder(shape=[None,K])\n",
    "# # Normal (0,1 priors for variables)\n",
    "# w = Normal(loc=tf.zeros([D,100]), scale = tf.ones([D,100]))\n",
    "# b = Normal(loc=tf.zeros(100), scale = tf.ones(100))\n",
    "\n",
    "# w2 = Normal(loc=tf.zeros([100,K]), scale = tf.ones([100,K]))\n",
    "# b2 = Normal(loc=tf.zeros(K), scale = tf.ones(K))\n",
    "\n",
    "# # h = tf.matmul(x,w)+b \n",
    "\n",
    "\n",
    "# def simple_nn(x,w,w1,b,b1):\n",
    "#     h = tf.nn.softmax(tf.matmul(x,w)+b)\n",
    "#     y = tf.nn.softmax(tf.matmul(h,w1)+b1)\n",
    "#     return y\n",
    "\n",
    "# # Categorical likelihood for classification\n",
    "# y = Categorical(simple_nn(x,w,w2,b,b2))"
   ]
  },
  {
   "cell_type": "markdown",
   "metadata": {},
   "source": [
    "Up to this point we have defined the likelihood P(y|x,;ω)P(y|x,;ω) and the prior P(ω)P(ω), next we want to use Bayes rule to compute the posterior P(ω|y,x)P(ω|y,x)"
   ]
  },
  {
   "cell_type": "markdown",
   "metadata": {},
   "source": [
    "However, we immediately face a problem because in practice the probability of the outputs P(y)P(y) is computationally intractable to compute for large instances and so we don't attempt to calculate the posterior directly."
   ]
  },
  {
   "cell_type": "markdown",
   "metadata": {},
   "source": [
    "To tackle this problem we will instead be using Variational Inference (VI). In Variational Inference we choose a family of parameterised distributions Q(ω;λ)Q(ω;λ) over parameters ωω to approximate the true posterior, and then optimize the parameters λλ so as to match the true posterior distribution as best as possible. The core idea is to minimise what is known as the Kullback-Leibler divergence between the true posterior P(ω|y,x)P(ω|y,x) and the approximating ditribution Q(ω;λ)Q(ω;λ), which can be thought of as a measure of the disimilarity between two probability distributions.\n"
   ]
  },
  {
   "cell_type": "markdown",
   "metadata": {},
   "source": [
    "The theory behind VI is beyond the scope of this blog, so more more information a quick introduction to VI can be found in Edward's documentation and a detailed one in Variational Inference: A Review for Statisticians by Blei et al.. Chapter 33 or MacKay's book is also a very good reference."
   ]
  },
  {
   "cell_type": "markdown",
   "metadata": {},
   "source": [
    "So next we use Edward to set up the approximating distributions Qw(ω)Qw(ω) for the weights and Qb(ω)Qb(ω) for the biases:"
   ]
  },
  {
   "cell_type": "code",
   "execution_count": 8,
   "metadata": {},
   "outputs": [],
   "source": [
    "# Contruct the q(w) and q(b). in this case we assume Normal distributions.\n",
    "# qw = Normal(loc=tf.Variable(tf.random_normal([D,100])),\n",
    "#                            scale = tf.nn.softmax(tf.Variable(tf.random_normal([D,100]))))# dim of weights\n",
    "# qb = Normal(loc=tf.Variable(tf.random_normal([100])),\n",
    "#            scale = tf.nn.softmax(tf.Variable(tf.random_normal([100]))))\n",
    "\n",
    "# qw1 = Normal(loc=tf.Variable(tf.random_normal([100,K])),\n",
    "#                            scale = tf.nn.softmax(tf.Variable(tf.random_normal([100,K]))))# dim of weights\n",
    "# qb1 = Normal(loc=tf.Variable(tf.random_normal([K])),\n",
    "#            scale = tf.nn.softmax(tf.Variable(tf.random_normal([K]))))"
   ]
  },
  {
   "cell_type": "code",
   "execution_count": null,
   "metadata": {},
   "outputs": [],
   "source": []
  },
  {
   "cell_type": "code",
   "execution_count": 8,
   "metadata": {},
   "outputs": [],
   "source": [
    "# We use a placeholder for the labels in anticipation of the training data\n",
    "y_ph = tf.placeholder(tf.int32, [N])\n",
    "# Define the VI inference technique, ie. minimize the KL divergence between q and p\n",
    "inference = ed.SGHMC({\n",
    "conv1_W:qconv1_W,\n",
    "conv1_b:qconv1_b,\n",
    "conv2_W:qconv2_W,\n",
    "conv2_b:qconv2_b,\n",
    "fc1_W:qfc1_W,\n",
    "fc1_b:qfc1_b,\n",
    "fc2_W:qfc2_W,\n",
    "fc2_b:qfc2_b,\n",
    "fc3_W:qfc3_W,\n",
    "fc3_b:qfc3_b}, data={y:y_ph})"
   ]
  },
  {
   "cell_type": "code",
   "execution_count": 10,
   "metadata": {},
   "outputs": [],
   "source": [
    "# # We use a placeholder for the labels in anticipation of the training data\n",
    "# y_ph = tf.placeholder(tf.int32, [N])\n",
    "# # Define the VI inference technique, ie. minimize the KL divergence between q and p\n",
    "# inference = ed.SGHMC({w: qw_1, b: qb_1}, data={y:y_ph})\n",
    "# inference.run(step_size=1e-4)"
   ]
  },
  {
   "cell_type": "code",
   "execution_count": 11,
   "metadata": {},
   "outputs": [],
   "source": [
    "# inference.initialize(n_iter=5000, n_print=100, scale={y: float(mnist.train.num_examples) / N})"
   ]
  },
  {
   "cell_type": "code",
   "execution_count": 9,
   "metadata": {},
   "outputs": [
    {
     "data": {
      "text/plain": [
       "'FOR KL'"
      ]
     },
     "execution_count": 9,
     "metadata": {},
     "output_type": "execute_result"
    }
   ],
   "source": [
    "###### Initalize the inference variables\n",
    "# Q: what does this do?!\n",
    "'''FOR SGHMC'''\n",
    "inference.initialize(n_iter=5000, n_print=100, step_size=1e-3)\n",
    "'''FOR KL'''\n",
    "# inference.initialize(n_iter=1000, n_print=100, scale={y: float(mnist.train.num_examples) / N})"
   ]
  },
  {
   "cell_type": "markdown",
   "metadata": {},
   "source": [
    " Now we are ready to perform Variational Inference. \n",
    " We load up a TensorFlow session and start the iterations. Will take a few minutes."
   ]
  },
  {
   "cell_type": "code",
   "execution_count": 10,
   "metadata": {},
   "outputs": [],
   "source": [
    "# tf.reset_default_graph()\n",
    "# We will use an interactive session\n",
    "sess = tf.InteractiveSession()\n",
    "# Initalize all the variables in the session\n",
    "tf.global_variables_initializer().run()"
   ]
  },
  {
   "cell_type": "code",
   "execution_count": 11,
   "metadata": {},
   "outputs": [
    {
     "name": "stdout",
     "output_type": "stream",
     "text": [
      "7000/7000 [100%] ██████████████████████████████ Elapsed: 2347s | Acceptance Rate: 1.000\n"
     ]
    }
   ],
   "source": [
    "# Train model. \n",
    "# We load data in minibatches and update the VI inference using each new batch\n",
    "for _ in range(inference.n_iter):\n",
    "    X_batch, Y_batch = mnist.train.next_batch(N)\n",
    "    # Tensorflow method, gives the label data in a one hot vector format.\n",
    "    # We convert taht into a single label\n",
    "    Y_batch = np.argmax(Y_batch, axis=1)\n",
    "    info_dict = inference.update(feed_dict={x: X_batch, y_ph: Y_batch})\n",
    "    inference.print_progress(info_dict)"
   ]
  },
  {
   "cell_type": "markdown",
   "metadata": {},
   "source": [
    "# Evaluate Model"
   ]
  },
  {
   "cell_type": "markdown",
   "metadata": {},
   "source": [
    "We now have everything that we need to run our model on the test data, let's see how good our model is! "
   ]
  },
  {
   "cell_type": "markdown",
   "metadata": {},
   "source": [
    "The major difference in Bayesian model evaluation is that there is no single value for the weights and biases that we should use to evaluate the model."
   ]
  },
  {
   "cell_type": "markdown",
   "metadata": {},
   "source": [
    " Instead we should use the distribution of weights and biases in our model so that the uncertainties in these parameters are reflected in the final prediction."
   ]
  },
  {
   "cell_type": "markdown",
   "metadata": {},
   "source": [
    "Thus instead of a single prediction we get a set of predictions and their accuracies."
   ]
  },
  {
   "cell_type": "markdown",
   "metadata": {},
   "source": [
    "We draw a 100 samples from the posterior distribution and see how we perform on each of these samples. Taking samples be might a slow process, may take few seconds!"
   ]
  },
  {
   "cell_type": "code",
   "execution_count": 11,
   "metadata": {},
   "outputs": [],
   "source": [
    "# Load test images\n",
    "X_test = mnist.test.images\n",
    "# Tensorflow method gives the label data in a hot vector format. WE convert to single label.\n",
    "Y_test = np.argmax(mnist.test.labels,axis=1)"
   ]
  },
  {
   "cell_type": "code",
   "execution_count": null,
   "metadata": {},
   "outputs": [],
   "source": []
  },
  {
   "cell_type": "code",
   "execution_count": 12,
   "metadata": {},
   "outputs": [
    {
     "name": "stdout",
     "output_type": "stream",
     "text": [
      "0\n",
      "1\n",
      "2\n",
      "3\n",
      "4\n",
      "5\n",
      "6\n",
      "7\n",
      "8\n",
      "9\n"
     ]
    }
   ],
   "source": [
    "# Generate samples the posterior and store them\n",
    "n_samples = 100\n",
    "prob_lst = []\n",
    "samples = []\n",
    "conv1_W_samples = []\n",
    "conv1_b_samples = []\n",
    "conv2_W_samples = []\n",
    "conv2_b_samples = []\n",
    "fc1_W_samples = []\n",
    "fc1_b_samples = []\n",
    "fc2_W_samples = []\n",
    "fc2_b_samples = []\n",
    "fc3_W_samples = []\n",
    "fc3_b_samples = []\n",
    "for i in range(10):\n",
    "    print i\n",
    "    \n",
    "    conv1_W_samp = qconv1_W.sample()\n",
    "    conv1_b_samp=qconv1_b.sample()\n",
    "    conv2_W_samp = qconv2_W.sample()\n",
    "    conv2_b_samp = qconv2_b.sample()\n",
    "    fc1_W_samp = qfc1_W.sample()\n",
    "    fc1_b_samp = qfc1_b.sample()\n",
    "    fc2_W_samp= qfc2_W.sample()\n",
    "    fc2_b_samp = qfc2_b.sample()\n",
    "    fc3_W_samp = qfc3_W.sample()\n",
    "    fc3_b_samp = qfc3_b.sample()\n",
    "    \n",
    "    \n",
    "    \n",
    "    conv1_W_samples.append(conv1_W_samp)\n",
    "    conv1_b_samples.append(conv1_b_samp)\n",
    "    conv2_W_samples.append(conv2_W_samp)\n",
    "    conv2_b_samples.append(conv2_b_samp)\n",
    "    fc1_W_samples.append(fc1_W_samp)\n",
    "    fc1_b_samples.append(fc1_b_samp)\n",
    "    fc2_W_samples.append(fc2_W_samp)\n",
    "    fc2_b_samples.append(fc2_b_samp)\n",
    "    fc3_W_samples.append(fc3_W_samp)\n",
    "    fc3_b_samples.append(fc3_b_samp)\n",
    "    # Also compute the probability of each class for each (w,b) sample.\n",
    "#     h = tf.nn.softmax(tf.matmul(X_test,w_samp) + b_samp)\n",
    "    prob= lenet_forward(X_test,conv1_W_samp,\n",
    "                        conv2_W_samp,fc1_W_samp,fc2_W_samp,fc3_W_samp,\n",
    "                       conv1_b_samp,conv2_b_samp,fc1_b_samp,fc2_b_samp,fc3_b_samp)\n",
    "    \n",
    "    \n",
    "    prob_lst.append(prob.eval())\n",
    "#     w_samp_reshape = tf.reshape(w_samp,[-1])\n",
    "#     sample = tf.concat([w_samp_reshape,b_samp],0)\n",
    "#     samples.append(sample.eval())"
   ]
  },
  {
   "cell_type": "code",
   "execution_count": 13,
   "metadata": {},
   "outputs": [],
   "source": [
    "# Compute the accuracy of the model.\n",
    "\n",
    "accy_test = []\n",
    "for prob in prob_lst:\n",
    "    # For each sample we compute the predicted class and compare with the test labels\n",
    "    y_trn_prd = np.argmax(prob, axis=1).astype(np.float32)\n",
    "    # Predicted class is defined as the one which has maximum probability\n",
    "    # We preform this test for each (w,b) in the posterior giving us a set of accuracies\n",
    "    acc = (y_trn_prd == Y_test).mean()*100\n",
    "    accy_test.append(acc)"
   ]
  },
  {
   "cell_type": "code",
   "execution_count": 14,
   "metadata": {
    "scrolled": true
   },
   "outputs": [
    {
     "data": {
      "text/plain": [
       "<matplotlib.text.Text at 0x122740410>"
      ]
     },
     "execution_count": 14,
     "metadata": {},
     "output_type": "execute_result"
    },
    {
     "data": {
      "image/png": "[encoded data removed]",
      "text/plain": [
       "<matplotlib.figure.Figure at 0x116aaf650>"
      ]
     },
     "metadata": {},
     "output_type": "display_data"
    }
   ],
   "source": [
    "# Finally we make a histogram of accuracies for the test data.\n",
    "plt.hist(accy_test) \n",
    "plt.title(\"Histogram of prediction accuracies in the MNIST test data\")\n",
    "plt.xlabel(\"Accuracy\")\n",
    "plt.ylabel(\"Frequency\")"
   ]
  },
  {
   "cell_type": "code",
   "execution_count": 15,
   "metadata": {},
   "outputs": [
    {
     "name": "stdout",
     "output_type": "stream",
     "text": [
      "('accuracy in predicting the test data = ', 11.35)\n"
     ]
    }
   ],
   "source": [
    "# Here we compute the mean of probabilties for each class for all the (w,b) samples.\n",
    "# We then use the class with maximum of the mean proabilities as the prediction. \n",
    "# In other words, we have used (w,b) samples to construct a set of models and\n",
    "# used their combined outputs to make the predcitions.\n",
    "Y_pred = np.argmax(np.mean(prob_lst,axis=0),axis=1)\n",
    "print(\"accuracy in predicting the test data = \", (Y_pred == Y_test).mean()*100)"
   ]
  },
  {
   "cell_type": "code",
   "execution_count": 20,
   "metadata": {},
   "outputs": [
    {
     "name": "stdout",
     "output_type": "stream",
     "text": [
      "WARNING:tensorflow:From <ipython-input-20-733949aa72c4>:1: all_variables (from tensorflow.python.ops.variables) is deprecated and will be removed after 2017-03-02.\n",
      "Instructions for updating:\n",
      "Please use tf.global_variables instead.\n"
     ]
    }
   ],
   "source": [
    "all_vars = tf.all_variables()"
   ]
  },
  {
   "cell_type": "code",
   "execution_count": 23,
   "metadata": {},
   "outputs": [
    {
     "data": {
      "text/plain": [
       "[u'Variable:0',\n",
       " u'Variable_1:0',\n",
       " u'Variable_2:0',\n",
       " u'Variable_3:0',\n",
       " u'Variable_4:0',\n",
       " u'Variable_5:0',\n",
       " u'Variable_6:0',\n",
       " u'Variable_7:0',\n",
       " u'Variable_8:0',\n",
       " u'Variable_9:0',\n",
       " u'Variable_10:0',\n",
       " u'Variable_11:0',\n",
       " u'Variable_12:0',\n",
       " u'Variable_13:0',\n",
       " u'Variable_14:0',\n",
       " u'Variable_15:0',\n",
       " u'iteration:0',\n",
       " u'n_accept:0']"
      ]
     },
     "execution_count": 23,
     "metadata": {},
     "output_type": "execute_result"
    }
   ],
   "source": [
    "[x.name for x in all_vars]"
   ]
  }
 ],
 "metadata": {
  "kernelspec": {
   "display_name": "Python 2",
   "language": "python",
   "name": "python2"
  },
  "language_info": {
   "codemirror_mode": {
    "name": "ipython",
    "version": 2
   },
   "file_extension": ".py",
   "mimetype": "text/x-python",
   "name": "python",
   "nbconvert_exporter": "python",
   "pygments_lexer": "ipython2",
   "version": "2.7.10"
  }
 },
 "nbformat": 4,
 "nbformat_minor": 2
}
